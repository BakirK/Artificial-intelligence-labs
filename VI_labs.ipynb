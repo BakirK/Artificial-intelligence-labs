{
  "nbformat": 4,
  "nbformat_minor": 0,
  "metadata": {
    "colab": {
      "name": "VI_lab1.ipynb",
      "provenance": [],
      "collapsed_sections": []
    },
    "kernelspec": {
      "name": "python388jvsc74a57bd000f5ab834bd65a89b7eae5e8f5e004fa7d2c154c8881e234276c2bfc54b3344c",
      "display_name": "Python 3.8.8 64-bit"
    },
    "metadata": {
      "interpreter": {
        "hash": "00f5ab834bd65a89b7eae5e8f5e004fa7d2c154c8881e234276c2bfc54b3344c"
      }
    }
  },
  "cells": [
    {
      "cell_type": "code",
      "metadata": {
        "id": "UFu302mQQccB"
      },
      "source": [
        "import math\n",
        "import numpy as np\n",
        "import matplotlib.pyplot as plt\n",
        "import pandas as pd\n",
        "import pickle\n"
      ],
      "execution_count": 3,
      "outputs": []
    },
    {
      "cell_type": "code",
      "metadata": {
        "colab": {
          "base_uri": "https://localhost:8080/"
        },
        "id": "v5sD0ZUBIlw8",
        "outputId": "4372113a-6a97-4d3e-f3a6-2af92c215ddb"
      },
      "source": [
        "x = 13 * 2.5 ** (124/9.3) + sqrt(3)\n",
        "print(x)"
      ],
      "execution_count": null,
      "outputs": [
        {
          "output_type": "stream",
          "text": [
            "2629120.071450335\n"
          ],
          "name": "stdout"
        }
      ]
    },
    {
      "cell_type": "code",
      "metadata": {
        "colab": {
          "base_uri": "https://localhost:8080/"
        },
        "id": "Jtm3ziLPJKNh",
        "outputId": "1ee6b11c-9cfd-42ed-ca72-b749107b5158"
      },
      "source": [
        "x = math.cos(pi/3) + math.tan(pi) * math.e ** pi\n",
        "print(x)"
      ],
      "execution_count": null,
      "outputs": [
        {
          "output_type": "stream",
          "text": [
            "0.4999999999999973\n"
          ],
          "name": "stdout"
        }
      ]
    },
    {
      "cell_type": "code",
      "metadata": {
        "colab": {
          "base_uri": "https://localhost:8080/"
        },
        "id": "M7v8KD0xJyH6",
        "outputId": "08d64f31-8392-4083-9c79-bbed5792fe7e"
      },
      "source": [
        "x = 10 * (2 + 3 ** 8)\n",
        "print(x)"
      ],
      "execution_count": null,
      "outputs": [
        {
          "output_type": "stream",
          "text": [
            "65630\n"
          ],
          "name": "stdout"
        }
      ]
    },
    {
      "cell_type": "code",
      "metadata": {
        "colab": {
          "base_uri": "https://localhost:8080/"
        },
        "id": "9DxX78RSJ6BC",
        "outputId": "ee9da659-5b47-4e90-a602-50242104c235"
      },
      "source": [
        "x = 79 // 18\n",
        "print(x)"
      ],
      "execution_count": null,
      "outputs": [
        {
          "output_type": "stream",
          "text": [
            "4\n"
          ],
          "name": "stdout"
        }
      ]
    },
    {
      "cell_type": "code",
      "metadata": {
        "colab": {
          "base_uri": "https://localhost:8080/"
        },
        "id": "mGZ1rA7dN-K-",
        "outputId": "baaad815-8731-4db6-b9fe-905d8ba6e252"
      },
      "source": [
        "l = []\n",
        "i = 0\n",
        "while i < 10:\n",
        "  try:\n",
        "    n = float(input('unesite {broj}. broj: '.format(broj=i+1)))\n",
        "    l.append(n)\n",
        "    i += 1\n",
        "  except:\n",
        "    print(\"Unos nije pravilan. Pokušajte ponovo!\")\n",
        "print(l)"
      ],
      "execution_count": null,
      "outputs": [
        {
          "output_type": "stream",
          "text": [
            "unesite 1. pozitivan cijeli broj: 7.5\n",
            "unesite 2. pozitivan cijeli broj: 5\n",
            "unesite 3. pozitivan cijeli broj: 1\n",
            "unesite 4. pozitivan cijeli broj: 6.6\n",
            "unesite 5. pozitivan cijeli broj: 7\n",
            "unesite 6. pozitivan cijeli broj: 8\n",
            "unesite 7. pozitivan cijeli broj: 9\n",
            "unesite 8. pozitivan cijeli broj: 8\n",
            "unesite 9. pozitivan cijeli broj: 7\n",
            "unesite 10. pozitivan cijeli broj: 3.33\n",
            "[7.5, 5.0, 1.0, 6.6, 7.0, 8.0, 9.0, 8.0, 7.0, 3.33]\n"
          ],
          "name": "stdout"
        }
      ]
    },
    {
      "cell_type": "code",
      "metadata": {
        "colab": {
          "base_uri": "https://localhost:8080/"
        },
        "id": "sxEnNh4_QXKF",
        "outputId": "32e8ef9a-6938-4206-b598-4f62cbb523e7"
      },
      "source": [
        "while 1:\n",
        "  try:\n",
        "      n = int(input('unesite pozitivan cijeli broj: '))\n",
        "      if n < 0:\n",
        "        raise Exception(\"Broj nije pozitivan\")\n",
        "      if n <= 1:\n",
        "        print(\"{n}. Fibonacci broj je: {n}\".format(n=n))\n",
        "      else:\n",
        "        x = 0\n",
        "        y = 1\n",
        "        z = 1\n",
        "        for i in range(2, n+1):\n",
        "          z = x + y\n",
        "          x = y\n",
        "          y = z\n",
        "        print(\"{n}. Fibonacci broj je: {z}\".format(n=n, z=z))\n",
        "      break\n",
        "    \n",
        "  except:\n",
        "    print(\"Unos nije pravilan. Pokušajte ponovo!\")"
      ],
      "execution_count": null,
      "outputs": [
        {
          "output_type": "stream",
          "text": [
            "unesite pozitivan cijeli broj: -4\n",
            "Unos nije pravilan. Pokušajte ponovo!\n",
            "unesite pozitivan cijeli broj: 6.6\n",
            "Unos nije pravilan. Pokušajte ponovo!\n",
            "unesite pozitivan cijeli broj: 10\n",
            "10. Fibonacci broj je: 55\n"
          ],
          "name": "stdout"
        }
      ]
    },
    {
      "cell_type": "code",
      "metadata": {
        "colab": {
          "base_uri": "https://localhost:8080/"
        },
        "id": "5fioa70XUFR3",
        "outputId": "274be55f-aab1-4526-e879-56824be75605"
      },
      "source": [
        "def unos(message):\n",
        "  try:\n",
        "    n = float(input('unesite koeficient ' + message + ': '))\n",
        "  except:\n",
        "    print(\"Unos nije pravilan. Pokušajte ponovo!\")\n",
        "  return n\n",
        "def main():\n",
        "  # a = b = c = None\n",
        "  a = unos('a')\n",
        "  b = unos('b')\n",
        "  c = unos('c')\n",
        "  d = b ** 2 - 4 * a * c\n",
        "  #d = math.sqrt(b ** 2 - 4 * a * c)\n",
        "  if d < 0:\n",
        "    print('Rješenja su kompleksna!')\n",
        "  elif d == 0:\n",
        "    r = -b / 2 * a\n",
        "    print('Rješenja su ista i iznose {r}!'.format(r=r))\n",
        "  else:\n",
        "    r1 = -b + math.sqrt(d) / 2 * a \n",
        "    r2 = -b - math.sqrt(d) / 2 * a \n",
        "    print('Rjesenja su {r1} i {r2}'.format(r1=r1, r2=r2))\n",
        "\n",
        "main()\n",
        "\n"
      ],
      "execution_count": null,
      "outputs": [
        {
          "output_type": "stream",
          "text": [
            "unesite koeficient a: 1\n",
            "unesite koeficient b: 5\n",
            "unesite koeficient c: 2\n",
            "Rjesenja su -2.9384471871911697 i -7.061552812808831\n"
          ],
          "name": "stdout"
        }
      ]
    },
    {
      "cell_type": "code",
      "metadata": {
        "colab": {
          "base_uri": "https://localhost:8080/"
        },
        "id": "FRgxU6dhYw7Z",
        "outputId": "e5eff3a6-85fa-4c1f-e97e-bd0b71053f80"
      },
      "source": [
        "def fact(n):\n",
        "  if n == 0:\n",
        "    return 1\n",
        "  if n < 0:\n",
        "    n *= -1\n",
        "    return -n * fact(n-1)\n",
        "  else:\n",
        "     return n * fact(n-1)\n",
        "\n",
        "def choose(n, k):\n",
        "  if k > n:\n",
        "    print('k ne moze biti vece od n')\n",
        "  elif k < 0:\n",
        "      print('k ne moze biti negativno')\n",
        "  elif n == k:\n",
        "    return 1\n",
        "  elif k == 1:\n",
        "    return n;\n",
        "  else:\n",
        "    i = k\n",
        "    sum = n\n",
        "    temp = n-1\n",
        "    while i > 1:\n",
        "      sum = sum * temp\n",
        "      temp -= 1\n",
        "      i -= 1    \n",
        "    return sum / fact(k)\n",
        "\n",
        "print('faktorijel broja 1 je: {fact}'.format(fact = fact(10)))\n",
        "print('sedam nad tri je: {x}'.format(x = choose(7,3)))"
      ],
      "execution_count": null,
      "outputs": [
        {
          "output_type": "stream",
          "text": [
            "faktorijel broja 1 je: 3628800\n",
            "sedam nad tri je: 35.0\n"
          ],
          "name": "stdout"
        }
      ]
    },
    {
      "cell_type": "code",
      "metadata": {
        "colab": {
          "base_uri": "https://localhost:8080/"
        },
        "id": "bTD4ipxApL4A",
        "outputId": "7d1279e4-465b-4b47-d37f-00bb184a4d44"
      },
      "source": [
        "nule = np.zeros((4, 3))\n",
        "print(nule)"
      ],
      "execution_count": null,
      "outputs": [
        {
          "output_type": "stream",
          "text": [
            "[[0. 0. 0.]\n",
            " [0. 0. 0.]\n",
            " [0. 0. 0.]\n",
            " [0. 0. 0.]]\n"
          ],
          "name": "stdout"
        }
      ]
    },
    {
      "cell_type": "code",
      "metadata": {
        "colab": {
          "base_uri": "https://localhost:8080/"
        },
        "id": "AZgdLPn5yakZ",
        "outputId": "407a6cf0-a50a-4977-e4a7-119836fbfd55"
      },
      "source": [
        "jedinice = np.ones((2, 2))\n",
        "print(jedinice)"
      ],
      "execution_count": null,
      "outputs": [
        {
          "output_type": "stream",
          "text": [
            "[[1. 1.]\n",
            " [1. 1.]]\n"
          ],
          "name": "stdout"
        }
      ]
    },
    {
      "cell_type": "code",
      "metadata": {
        "colab": {
          "base_uri": "https://localhost:8080/"
        },
        "id": "1y1ee_cWyb6n",
        "outputId": "e15d49eb-6b42-4a14-ea4e-1174eaa9c6fe"
      },
      "source": [
        "vektorKolona = np.arange(10) + 1\n",
        "print(vektorKolona)"
      ],
      "execution_count": null,
      "outputs": [
        {
          "output_type": "stream",
          "text": [
            "[ 1  2  3  4  5  6  7  8  9 10]\n"
          ],
          "name": "stdout"
        }
      ]
    },
    {
      "cell_type": "code",
      "metadata": {
        "colab": {
          "base_uri": "https://localhost:8080/",
          "height": 296
        },
        "id": "6KR5JD6Ragny",
        "outputId": "6afedae2-91de-4df5-f997-4a467ac80a41"
      },
      "source": [
        "vektorKolona = np.range(10) + 1\n",
        "vektorKolona"
      ],
      "execution_count": null,
      "outputs": [
        {
          "output_type": "error",
          "ename": "AttributeError",
          "evalue": "ignored",
          "traceback": [
            "\u001b[0;31m---------------------------------------------------------------------------\u001b[0m",
            "\u001b[0;31mAttributeError\u001b[0m                            Traceback (most recent call last)",
            "\u001b[0;32m<ipython-input-3-520c19330b22>\u001b[0m in \u001b[0;36m<module>\u001b[0;34m()\u001b[0m\n\u001b[0;32m----> 1\u001b[0;31m \u001b[0mvektorKolona\u001b[0m \u001b[0;34m=\u001b[0m \u001b[0mnp\u001b[0m\u001b[0;34m.\u001b[0m\u001b[0mrange\u001b[0m\u001b[0;34m(\u001b[0m\u001b[0;36m10\u001b[0m\u001b[0;34m)\u001b[0m \u001b[0;34m+\u001b[0m \u001b[0;36m1\u001b[0m\u001b[0;34m\u001b[0m\u001b[0;34m\u001b[0m\u001b[0m\n\u001b[0m\u001b[1;32m      2\u001b[0m \u001b[0mvektorKolona\u001b[0m\u001b[0;34m\u001b[0m\u001b[0;34m\u001b[0m\u001b[0m\n",
            "\u001b[0;32m/usr/local/lib/python3.7/dist-packages/numpy/__init__.py\u001b[0m in \u001b[0;36m__getattr__\u001b[0;34m(attr)\u001b[0m\n\u001b[1;32m    213\u001b[0m             \u001b[0;32melse\u001b[0m\u001b[0;34m:\u001b[0m\u001b[0;34m\u001b[0m\u001b[0;34m\u001b[0m\u001b[0m\n\u001b[1;32m    214\u001b[0m                 raise AttributeError(\"module {!r} has no attribute \"\n\u001b[0;32m--> 215\u001b[0;31m                                      \"{!r}\".format(__name__, attr))\n\u001b[0m\u001b[1;32m    216\u001b[0m \u001b[0;34m\u001b[0m\u001b[0m\n\u001b[1;32m    217\u001b[0m         \u001b[0;32mdef\u001b[0m \u001b[0m__dir__\u001b[0m\u001b[0;34m(\u001b[0m\u001b[0;34m)\u001b[0m\u001b[0;34m:\u001b[0m\u001b[0;34m\u001b[0m\u001b[0;34m\u001b[0m\u001b[0m\n",
            "\u001b[0;31mAttributeError\u001b[0m: module 'numpy' has no attribute 'range'"
          ]
        }
      ]
    },
    {
      "cell_type": "code",
      "metadata": {
        "colab": {
          "base_uri": "https://localhost:8080/"
        },
        "id": "GZgLpTIjyd2y",
        "outputId": "7e136caa-345c-42a8-ef83-45e82939e19c"
      },
      "source": [
        "matrica = np.array([1, 2, 3, 1/3.6, 5, 23, 2 ** 10.5, 42, math.cos(80.841)]).reshape(3, 3)\n",
        "print(matrica)"
      ],
      "execution_count": null,
      "outputs": [
        {
          "output_type": "stream",
          "text": [
            "[[1.00000000e+00 2.00000000e+00 3.00000000e+00]\n",
            " [2.77777778e-01 5.00000000e+00 2.30000000e+01]\n",
            " [1.44815469e+03 4.20000000e+01 6.67158216e-01]]\n"
          ],
          "name": "stdout"
        }
      ]
    },
    {
      "cell_type": "code",
      "metadata": {
        "colab": {
          "base_uri": "https://localhost:8080/"
        },
        "id": "2oZ92Tb5ygIP",
        "outputId": "ef3ebd92-1411-4cac-a651-3617a6e05c42"
      },
      "source": [
        "transponovana = matrica.transpose()\n",
        "print(transponovana)"
      ],
      "execution_count": null,
      "outputs": [
        {
          "output_type": "stream",
          "text": [
            "[[1.00000000e+00 2.77777778e-01 1.44815469e+03]\n",
            " [2.00000000e+00 5.00000000e+00 4.20000000e+01]\n",
            " [3.00000000e+00 2.30000000e+01 6.67158216e-01]]\n"
          ],
          "name": "stdout"
        }
      ]
    },
    {
      "cell_type": "code",
      "metadata": {
        "colab": {
          "base_uri": "https://localhost:8080/"
        },
        "id": "-vi5_ta1yh4i",
        "outputId": "510c60df-2d91-46e3-f6f5-616ed05e3a58"
      },
      "source": [
        "zbirMatrica = matrica + transponovana\n",
        "print(zbirMatrica)"
      ],
      "execution_count": null,
      "outputs": [
        {
          "output_type": "stream",
          "text": [
            "[[2.00000000e+00 2.27777778e+00 1.45115469e+03]\n",
            " [2.27777778e+00 1.00000000e+01 6.50000000e+01]\n",
            " [1.45115469e+03 6.50000000e+01 1.33431643e+00]]\n"
          ],
          "name": "stdout"
        }
      ]
    },
    {
      "cell_type": "code",
      "metadata": {
        "colab": {
          "base_uri": "https://localhost:8080/"
        },
        "id": "EcCpudg5yj2z",
        "outputId": "7ddd18bf-d5af-46cf-8172-f13d6481a349"
      },
      "source": [
        "sum = 0\n",
        "prvaKolona = matrica[:, 0]\n",
        "for x in prvaKolona:\n",
        "  sum += x\n",
        "proizvodSaSumomKolone = matrica * sum\n",
        "print(proizvodSaSumomKolone)"
      ],
      "execution_count": null,
      "outputs": [
        {
          "output_type": "stream",
          "text": [
            "[[1.44943247e+03 2.89886493e+03 4.34829740e+03]\n",
            " [4.02620129e+02 7.24716233e+03 3.33369467e+04]\n",
            " [2.09900242e+06 6.08761636e+04 9.67000778e+02]]\n"
          ],
          "name": "stdout"
        }
      ]
    },
    {
      "cell_type": "code",
      "metadata": {
        "colab": {
          "base_uri": "https://localhost:8080/"
        },
        "id": "MuQB_kS0ymBJ",
        "outputId": "53fc826f-1cb8-42b2-82ad-99fd12edd140"
      },
      "source": [
        "treciRed = matrica[2, :]\n",
        "print(treciRed)"
      ],
      "execution_count": null,
      "outputs": [
        {
          "output_type": "stream",
          "text": [
            "[1.44815469e+03 4.20000000e+01 6.67158216e-01]\n"
          ],
          "name": "stdout"
        }
      ]
    },
    {
      "cell_type": "code",
      "metadata": {
        "colab": {
          "base_uri": "https://localhost:8080/"
        },
        "id": "5w4-pEcDyqPz",
        "outputId": "86a94e3a-ab0f-4aa5-f277-101f5a571ade"
      },
      "source": [
        "drugaKolona = matrica[:, 1]\n",
        "print(drugaKolona)"
      ],
      "execution_count": null,
      "outputs": [
        {
          "output_type": "stream",
          "text": [
            "[ 2.  5. 42.]\n"
          ],
          "name": "stdout"
        }
      ]
    },
    {
      "cell_type": "code",
      "metadata": {
        "colab": {
          "base_uri": "https://localhost:8080/"
        },
        "id": "wEw-8m6Yyr7d",
        "outputId": "a264203c-10de-4d0c-f689-d2c44a6663fc"
      },
      "source": [
        "element = matrica[0,2]\n",
        "print(element)"
      ],
      "execution_count": null,
      "outputs": [
        {
          "output_type": "stream",
          "text": [
            "3.0\n"
          ],
          "name": "stdout"
        }
      ]
    },
    {
      "cell_type": "code",
      "metadata": {
        "colab": {
          "base_uri": "https://localhost:8080/"
        },
        "id": "5mD1WoAqin31",
        "outputId": "cb5f6e23-b135-43c9-d959-8656c69feb1e"
      },
      "source": [
        "A = np.array([[1,2,3], [4,5,6]])\n",
        "C = np.array([[1,1]  , [0,1]])\n",
        "B = np.array([[2,0]  , [3,4]])\n",
        "A @ A"
      ],
      "execution_count": null,
      "outputs": [
        {
          "output_type": "execute_result",
          "data": {
            "text/plain": [
              "array([[ 9, 12],\n",
              "       [24, 33]])"
            ]
          },
          "metadata": {
            "tags": []
          },
          "execution_count": 12
        }
      ]
    },
    {
      "cell_type": "code",
      "metadata": {
        "colab": {
          "base_uri": "https://localhost:8080/"
        },
        "id": "cFlhVB-6tIGW",
        "outputId": "b7ff924a-a4a2-4814-d63b-a76b13c4a315"
      },
      "source": [
        "def  kvadratna(M):\n",
        "  n = math.sqrt(M.size)\n",
        "  if (int(n) == n):\n",
        "    n = int(n)\n",
        "    M = M.reshape(n, n) \n",
        "  return M\n",
        "def main():\n",
        "  vektor = np.arange(10)\n",
        "  vektor = kvadratna(vektor)\n",
        "  print(vektor)\n",
        "\n",
        "  vektor = np.arange(9)\n",
        "  vektor = kvadratna(vektor)\n",
        "  print(vektor)\n",
        "main()"
      ],
      "execution_count": null,
      "outputs": [
        {
          "output_type": "stream",
          "text": [
            "[0 1 2 3 4 5 6 7 8 9]\n",
            "[[0 1 2]\n",
            " [3 4 5]\n",
            " [6 7 8]]\n"
          ],
          "name": "stdout"
        }
      ]
    },
    {
      "cell_type": "code",
      "metadata": {
        "id": "T3BQr2Tm4vtR",
        "colab": {
          "base_uri": "https://localhost:8080/",
          "height": 295
        },
        "outputId": "e1bb1ecc-f7bc-4dba-e680-292ec8ac1b93"
      },
      "source": [
        "import matplotlib.pyplot as plt\n",
        "import numpy as np\n",
        "n = np.arange(1, 100, 1)\n",
        "x = np.sin(n)\n",
        "y = np.cos(n)\n",
        "plt.plot(x)\n",
        "plt.plot(y)\n",
        "plt.xlabel('n')\n",
        "plt.ylabel('x i y')\n",
        "plt.title('x=sin(n) y=cos(n)')\n",
        "plt.grid()\n",
        "plt.show()"
      ],
      "execution_count": null,
      "outputs": [
        {
          "output_type": "display_data",
          "data": {
            "image/png": "[encoded data removed]",
            "text/plain": [
              "<Figure size 432x288 with 1 Axes>"
            ]
          },
          "metadata": {
            "tags": [],
            "needs_background": "light"
          }
        }
      ]
    },
    {
      "cell_type": "code",
      "metadata": {
        "colab": {
          "base_uri": "https://localhost:8080/",
          "height": 573
        },
        "id": "ToAOHUhQHWWa",
        "outputId": "d7ef6d8b-b61b-405e-cd7d-0f9f419c6e07"
      },
      "source": [
        "import matplotlib.pyplot as plt\n",
        "import numpy as np\n",
        "n = np.arange(1, 100, 1)\n",
        "x = np.sin(n)\n",
        "plt.plot(x)\n",
        "plt.xlabel('n')\n",
        "plt.ylabel('x')\n",
        "plt.title('x=sin(n)')\n",
        "plt.grid()\n",
        "plt.show()\n",
        "\n",
        "y = np.cos(n)\n",
        "plt.plot(y)\n",
        "plt.plot(y)\n",
        "plt.xlabel('n')\n",
        "plt.ylabel('y')\n",
        "plt.title('y=cos(n)')\n",
        "plt.grid()\n",
        "plt.show()"
      ],
      "execution_count": null,
      "outputs": [
        {
          "output_type": "display_data",
          "data": {
            "image/png": "[encoded data removed]",
            "text/plain": [
              "<Figure size 432x288 with 1 Axes>"
            ]
          },
          "metadata": {
            "tags": [],
            "needs_background": "light"
          }
        },
        {
          "output_type": "display_data",
          "data": {
            "image/png": "[encoded data removed]",
            "text/plain": [
              "<Figure size 432x288 with 1 Axes>"
            ]
          },
          "metadata": {
            "tags": [],
            "needs_background": "light"
          }
        }
      ]
    },
    {
      "cell_type": "code",
      "metadata": {
        "colab": {
          "base_uri": "https://localhost:8080/"
        },
        "id": "jIWPIK8LQcBa",
        "outputId": "d341cd7b-b5b5-41b1-9b6d-63326ed08bc0"
      },
      "source": [
        "import numpy as np\n",
        "jedinice = np.ones((2,2))\n",
        "jedinice.reshape(2,2)\n",
        "print(jedinice)\n",
        "\n",
        "\n",
        "# jedinice = jedinice.reshape(2,2)"
      ],
      "execution_count": null,
      "outputs": [
        {
          "output_type": "stream",
          "text": [
            "[[1. 1.]\n",
            " [1. 1.]]\n"
          ],
          "name": "stdout"
        }
      ]
    },
    {
      "cell_type": "code",
      "metadata": {
        "colab": {
          "base_uri": "https://localhost:8080/"
        },
        "id": "aYxPMEQkct9G",
        "outputId": "ba7c1f9d-cab3-48c6-d478-0b8e3aeb29a4"
      },
      "source": [
        "#Ovo sot sam vam pricao da se pravi samo view na taj np array mozete lako provjeriti \n",
        "import numpy as np\n",
        "jedinice = np.ones(4)\n",
        "temp = jedinice.reshape(2,2)\n",
        "temp[0,0] = 5\n",
        "print(temp)\n",
        "print(jedinice)"
      ],
      "execution_count": null,
      "outputs": [
        {
          "output_type": "stream",
          "text": [
            "[[5. 1.]\n",
            " [1. 1.]]\n",
            "[5. 1. 1. 1.]\n"
          ],
          "name": "stdout"
        }
      ]
    },
    {
      "cell_type": "code",
      "metadata": {
        "colab": {
          "base_uri": "https://localhost:8080/"
        },
        "id": "1-Ss7aZaREKN",
        "outputId": "feb90a1a-7932-42e8-be94-c53555ecca14"
      },
      "source": [
        "def try_to_change_list_contents(the_list):\n",
        "    print('got', the_list)\n",
        "    the_list.append('four')\n",
        "    print('changed to', the_list)\n",
        "\n",
        "outer_list = ['one', 'two', 'three']\n",
        "\n",
        "print('before, outer_list =', outer_list)\n",
        "try_to_change_list_contents(outer_list)\n",
        "print('after, outer_list =', outer_list)"
      ],
      "execution_count": null,
      "outputs": [
        {
          "output_type": "stream",
          "text": [
            "before, outer_list = ['one', 'two', 'three']\n",
            "got ['one', 'two', 'three']\n",
            "changed to ['one', 'two', 'three', 'four']\n",
            "after, outer_list = ['one', 'two', 'three', 'four']\n"
          ],
          "name": "stdout"
        }
      ]
    },
    {
      "cell_type": "markdown",
      "metadata": {
        "id": "Vb45nBxPCrEy"
      },
      "source": [
        "**LAB2**"
      ]
    },
    {
      "cell_type": "code",
      "metadata": {
        "id": "Qsdq_kSUCtnd"
      },
      "source": [
        "import pandas as pd\n"
      ],
      "execution_count": null,
      "outputs": []
    },
    {
      "cell_type": "code",
      "metadata": {
        "id": "LBiBRgJ7q7iX"
      },
      "source": [
        "# data = pd.read_csv(putanja_do_datoteke, sep=’;’)\n",
        "from google.colab import drive\n",
        "drive.mount('/content/drive')\n"
      ],
      "execution_count": null,
      "outputs": []
    },
    {
      "cell_type": "code",
      "metadata": {
        "id": "Nu-UW0-XwjxD"
      },
      "source": [
        "from google.colab import drive\n",
        "drive.mount('/content/drive')"
      ],
      "execution_count": null,
      "outputs": []
    },
    {
      "cell_type": "code",
      "metadata": {
        "id": "GrBDHdjbwOiI",
        "colab": {
          "base_uri": "https://localhost:8080/",
          "height": 195
        },
        "outputId": "2bd847d0-4549-4e00-f5a4-231450deced7"
      },
      "source": [
        "data = pd.read_csv('drive/MyDrive/dataset.csv') # ucitaj podatke\n",
        "#data.to_csv('izlaz.csv', sep=',')\n",
        "# data # ispisi podatke\n",
        "data.head()\n",
        "data.tail(10)\n",
        "\n",
        "data_transponovano = data.T\n",
        "data_transponovano\n",
        "\n",
        "data.to_numpy()\n",
        "#pd.DataFrame(data.to_numpy(), columns=['Kolona1', 'Kolona2', ...]) \n",
        "# mora se eksplicitno navest ime kolona jer se gube kad se prebaci iz dataset u numpy nz\n",
        "\n",
        "data.tail()['Prisustvo']\n",
        "data[10:15] # od 10 do 15 reda\n",
        "\n",
        "data.loc[11, 'Indeks']\n",
        "data.loc[data['UKUPNO'] > 43]\n",
        "\n",
        "# izlistaj indeks i prisustvo za prvih 5 studenata\n",
        "data.loc[:4, ['Indeks', 'Prisustvo']]\n",
        "\n"
      ],
      "execution_count": null,
      "outputs": [
        {
          "output_type": "execute_result",
          "data": {
            "text/html": [
              "<div>\n",
              "<style scoped>\n",
              "    .dataframe tbody tr th:only-of-type {\n",
              "        vertical-align: middle;\n",
              "    }\n",
              "\n",
              "    .dataframe tbody tr th {\n",
              "        vertical-align: top;\n",
              "    }\n",
              "\n",
              "    .dataframe thead th {\n",
              "        text-align: right;\n",
              "    }\n",
              "</style>\n",
              "<table border=\"1\" class=\"dataframe\">\n",
              "  <thead>\n",
              "    <tr style=\"text-align: right;\">\n",
              "      <th></th>\n",
              "      <th>Indeks</th>\n",
              "      <th>Prisustvo</th>\n",
              "    </tr>\n",
              "  </thead>\n",
              "  <tbody>\n",
              "    <tr>\n",
              "      <th>0</th>\n",
              "      <td>94-ST</td>\n",
              "      <td>10</td>\n",
              "    </tr>\n",
              "    <tr>\n",
              "      <th>1</th>\n",
              "      <td>77-ST</td>\n",
              "      <td>10</td>\n",
              "    </tr>\n",
              "    <tr>\n",
              "      <th>2</th>\n",
              "      <td>69-ST</td>\n",
              "      <td>10</td>\n",
              "    </tr>\n",
              "    <tr>\n",
              "      <th>3</th>\n",
              "      <td>79-ST</td>\n",
              "      <td>0</td>\n",
              "    </tr>\n",
              "    <tr>\n",
              "      <th>4</th>\n",
              "      <td>89-ST</td>\n",
              "      <td>10</td>\n",
              "    </tr>\n",
              "  </tbody>\n",
              "</table>\n",
              "</div>"
            ],
            "text/plain": [
              "  Indeks  Prisustvo\n",
              "0  94-ST         10\n",
              "1  77-ST         10\n",
              "2  69-ST         10\n",
              "3  79-ST          0\n",
              "4  89-ST         10"
            ]
          },
          "metadata": {
            "tags": []
          },
          "execution_count": 3
        }
      ]
    },
    {
      "cell_type": "code",
      "metadata": {
        "colab": {
          "base_uri": "https://localhost:8080/"
        },
        "id": "f9BhVVp84bvd",
        "outputId": "48877630-b2f7-46e6-e24e-54b2931fc8d8"
      },
      "source": [
        "df = pd.DataFrame(np.arange(25).reshape(5,5),\n",
        "index=[5,4,3,2,1],\n",
        "columns=['x', 'y', 'z', 'v', 'i'])\n",
        "df\n",
        "# loc radi sa kljucem (index) reda,\n",
        "# i sa nazivima kolona\n",
        "df.loc[1, 'x']\n",
        "\n",
        "# iloc radi isključivo sa stvarnim (integer) indeksima\n",
        "# (kao standardne matrice)\n",
        "df.iloc[1, 0]\n"
      ],
      "execution_count": null,
      "outputs": [
        {
          "output_type": "execute_result",
          "data": {
            "text/plain": [
              "5"
            ]
          },
          "metadata": {
            "tags": []
          },
          "execution_count": 23
        }
      ]
    },
    {
      "cell_type": "code",
      "metadata": {
        "id": "siB8zeh64n-Z"
      },
      "source": [
        "data.replace('/', np.nan, inplace=True)\n",
        "data.head() # svaka pojava / zamijenjena sa NaN\n",
        "# data.fillna(value=-1)"
      ],
      "execution_count": null,
      "outputs": []
    },
    {
      "cell_type": "markdown",
      "metadata": {
        "id": "kEEsjPxR7HoE"
      },
      "source": [
        "Ukoliko se nedostajući podaci žele odbaciti, može se koristiti naredba dropna. Ova metoda prima dva parametra:\n",
        "– axis - određuje da li se odbacuju redovi ili kolone (0 za redove, 1 za kolone - podrazumijevana vrijednost\n",
        "je nula);\n",
        "– method - može biti ’any’ ili ’all’: u prvom slučaju, odbacuje se red (kolona) ako ima barem jednu NaN\n",
        "vrijednost, dok se u drugom slučaju odbacuje red (kolona) ako je svaka vrijednost u tom redu (koloni)\n",
        "NaN.\n"
      ]
    },
    {
      "cell_type": "code",
      "metadata": {
        "id": "C05YtGW47Ig7"
      },
      "source": [
        "data.dropna(1, 'any')"
      ],
      "execution_count": null,
      "outputs": []
    },
    {
      "cell_type": "markdown",
      "metadata": {
        "id": "tKRKgd-u9Do1"
      },
      "source": [
        "• Nova kolona se u Pandas DataFrame može dodati jednostavnim indeksiranjem njenog imena. Na primjer,\n",
        "ukoliko u naš skup podataka želimo dodati novu kolonu Kvizovi, onda bismo pisali\n",
        "data[’Kvizovi’] = niz_vrijednosti\n"
      ]
    },
    {
      "cell_type": "code",
      "metadata": {
        "id": "eVSwZf_q9E6q"
      },
      "source": [
        "data = pd.read_csv('drive/MyDrive/dataset.csv') # ucitaj podatke\n",
        "data.drop([2, 3, 4], inplace=True) # izbaci redove na indeksima 2, 3, i 4\n",
        "data.head()\n"
      ],
      "execution_count": null,
      "outputs": []
    },
    {
      "cell_type": "code",
      "metadata": {
        "id": "SdvyE9IN_e1f"
      },
      "source": [
        "# izbaci kolone sa popravnim ispitima\n",
        "data.drop(columns=['Ispit1_popravni', 'Ispit2_popravni'], inplace=True)\n",
        "data.head()"
      ],
      "execution_count": null,
      "outputs": []
    },
    {
      "cell_type": "code",
      "metadata": {
        "id": "yJBjx7jxCzwH"
      },
      "source": [
        "data.reset_index(drop=True)\n",
        "# dataframe je implenetirana kao hash map i ne azurira indexe samo nakon drop-a reda"
      ],
      "execution_count": null,
      "outputs": []
    },
    {
      "cell_type": "code",
      "metadata": {
        "id": "ASVmSlaDrP6u"
      },
      "source": [
        "from sklearn.impute import SimpleImputer\n",
        "data = pd.read_csv('drive/MyDrive/dataset.csv')\n",
        "data = data.replace('/', np.NaN)\n",
        "\n",
        "si = SimpleImputer(strategy='mean') # ima jos median, most_frequent i constant(fillna iz pandas)\n",
        "print('Prije zamjene: ')\n",
        "print(data.loc[:5, 'Ispit2'])\n",
        "data.loc[:, 'Ispit2'] = si.fit_transform(data.loc[:, 'Ispit2'].values.reshape(-1,1))\n",
        "print('Nakon zamjene: ')\n",
        "print(data.loc[:5, 'Ispit2'])\n"
      ],
      "execution_count": null,
      "outputs": []
    },
    {
      "cell_type": "markdown",
      "metadata": {
        "id": "tYN14Jk0vvuz"
      },
      "source": [
        " Pored mean strategije, koja je korištena u ovom primjeru,\n",
        "postoji još nekoliko strategija, i to:\n",
        "– median - mijenja NaN vrijednosti sa vrijednošću mediana;\n",
        "– most_frequent - mijenja NaN vrijednosti sa najčešćom vrijednošću u skupu podataka;\n",
        "– constant - mijenja NaN vrijednosti nekom konstantom (analogno fillna iz Pandas biblioteke)."
      ]
    },
    {
      "cell_type": "code",
      "metadata": {
        "id": "W1_VrFEcvxaN"
      },
      "source": [
        "from sklearn.preprocessing import scale\n",
        "# data = pd.read_csv('drive/MyDrive/dataset.csv')\n",
        "# data = data.replace('/', np.NaN)\n",
        "\n",
        "data['Ispit2'] = scale(data['Ispit2']) # Z score\n",
        "data.loc[:, 'Ispit2']\n"
      ],
      "execution_count": null,
      "outputs": []
    },
    {
      "cell_type": "code",
      "metadata": {
        "id": "SiFNk4lLzf3B"
      },
      "source": [
        "from sklearn.preprocessing import MinMaxScaler\n",
        "mm = MinMaxScaler() # minMax normalizacija\n",
        "data['Ispit2'] = mm.fit_transform(data['Ispit2'].values.reshape(-1,1))\n",
        "data.loc[:5, 'Ispit2']\n"
      ],
      "execution_count": null,
      "outputs": []
    },
    {
      "cell_type": "code",
      "metadata": {
        "id": "Ku3fX_NUzmvF"
      },
      "source": [
        "from sklearn.model_selection import train_test_split\n",
        "\n",
        "X, Y = np.arange(10).reshape((5, 2)), range(5)\n",
        "\n",
        "# 42 je random seed za generator\n",
        "# test grupa ce imati 33% od originalnih podataka\n",
        "X_train, X_test, Y_train, Y_test = train_test_split(X, Y, test_size=0.33, random_state=42)\n"
      ],
      "execution_count": null,
      "outputs": []
    },
    {
      "cell_type": "code",
      "metadata": {
        "colab": {
          "base_uri": "https://localhost:8080/"
        },
        "id": "moP6Hu2e0Phi",
        "outputId": "ad450e76-ee60-4116-a8c5-6d314408c5cf"
      },
      "source": [],
      "execution_count": null,
      "outputs": [
        {
          "output_type": "execute_result",
          "data": {
            "text/plain": [
              "range(0, 5)"
            ]
          },
          "metadata": {
            "tags": []
          },
          "execution_count": 147
        }
      ]
    },
    {
      "cell_type": "markdown",
      "metadata": {
        "id": "89E67Mh_DfpM"
      },
      "source": [
        "ZSR LAB 2\n"
      ]
    },
    {
      "cell_type": "code",
      "metadata": {
        "id": "BMe8swada6Ov"
      },
      "source": [
        "data = pd.read_csv('drive/MyDrive/dataset.csv')"
      ],
      "execution_count": null,
      "outputs": []
    },
    {
      "cell_type": "code",
      "metadata": {
        "id": "olGmATsMDW4W"
      },
      "source": [
        "data = pd.read_csv('drive/MyDrive/dataset.csv')\n",
        "data.head()"
      ],
      "execution_count": null,
      "outputs": []
    },
    {
      "cell_type": "code",
      "metadata": {
        "id": "1pbnJsOkDoqt"
      },
      "source": [
        "data.tail(10)"
      ],
      "execution_count": null,
      "outputs": []
    },
    {
      "cell_type": "code",
      "metadata": {
        "id": "X_1hY86RDtRO"
      },
      "source": [
        "data.loc[:, ['Ispit1', 'Ispit2']]"
      ],
      "execution_count": null,
      "outputs": []
    },
    {
      "cell_type": "code",
      "metadata": {
        "id": "xJ5pyE03FtyV"
      },
      "source": [
        "# data = pd.read_csv('drive/MyDrive/dataset.csv')\n",
        "data.loc[data['Prisustvo'] == 0]"
      ],
      "execution_count": null,
      "outputs": []
    },
    {
      "cell_type": "code",
      "metadata": {
        "id": "DlNvKqy1GHQy"
      },
      "source": [
        "data.loc[data['Ocjena'] >= '8', ['Indeks', 'UKUPNO', 'Ocjena']]"
      ],
      "execution_count": null,
      "outputs": []
    },
    {
      "cell_type": "code",
      "metadata": {
        "id": "ckK3NLpDHqpu"
      },
      "source": [
        "# data = pd.read_csv('drive/MyDrive/dataset.csv')\n",
        "data = data.replace('/', np.NaN)\n"
      ],
      "execution_count": null,
      "outputs": []
    },
    {
      "cell_type": "code",
      "metadata": {
        "id": "v3IGhnaVcmUU"
      },
      "source": [],
      "execution_count": null,
      "outputs": []
    },
    {
      "cell_type": "code",
      "metadata": {
        "id": "li7rRlalJM3b"
      },
      "source": [
        "# data = pd.read_csv('drive/MyDrive/dataset.csv')\n",
        "data = data.drop(data.loc[data['Ocjena'] == '/'].index)\n"
      ],
      "execution_count": null,
      "outputs": []
    },
    {
      "cell_type": "code",
      "metadata": {
        "id": "aCLqbme7KtMW"
      },
      "source": [
        "# Z1 g) Kreirati novu kolonu Ispit1_final u koju ćete za svakog studenta upisati onaj rezultat ispita koji je bolji (na\n",
        "# primjer, ako je student bolje uradio popravni ispit, onda tu pišete bodove sa popravnog, a u protivnom sa\n",
        "# redovnog);\n",
        "\n",
        "data = pd.read_csv('drive/MyDrive/dataset.csv')\n",
        "data = data.replace('/', np.NaN)\n",
        "data[[\"Ispit1\", \"Ispit2\", \"Ispit1_popravni\", \"Ispit2_popravni\"]] = data[[\"Ispit1\", \"Ispit2\", \"Ispit1_popravni\", \"Ispit2_popravni\"]].apply(pd.to_numeric, errors='coerce')\n",
        "\n",
        "#data['Ispit1'] = pd.to_numeric(data['Ispit1'], errors='coerce')\n",
        "#data['Ispit1_popravni'] = pd.to_numeric(data['Ispit1_popravni'], errors='coerce')\n",
        "data['Ispit1_final'] = data[['Ispit1', 'Ispit1_popravni']].max(axis=1)\n",
        "\n",
        "\n",
        "#data['Ispit2'] = pd.to_numeric(data['Ispit2'], errors='coerce')\n",
        "#data['Ispit2_popravni'] = pd.to_numeric(data['Ispit2_popravni'], errors='coerce')\n",
        "data['Ispit2_final'] = data[['Ispit2', 'Ispit2_popravni']].max(axis=1)\n",
        "\n",
        "data\n"
      ],
      "execution_count": null,
      "outputs": []
    },
    {
      "cell_type": "code",
      "metadata": {
        "id": "UAKtUaOFN2yB"
      },
      "source": [
        "data = pd.read_csv('drive/MyDrive/dataset.csv')\n",
        "\n",
        "data['Ispit1_final'] = data[['Ispit1', 'Ispit1_popravni']].max(axis=1)\n",
        "data['Ispit2_final'] = data[['Ispit2', 'Ispit2_popravni']].max(axis=1)\n",
        "data"
      ],
      "execution_count": null,
      "outputs": []
    },
    {
      "cell_type": "code",
      "metadata": {
        "id": "iMrdOh_Bab0C"
      },
      "source": [
        "data = data.drop(columns=['Ispit1', 'Ispit1_popravni', 'Ispit2', 'Ispit2_popravni'])"
      ],
      "execution_count": null,
      "outputs": []
    },
    {
      "cell_type": "code",
      "metadata": {
        "id": "ysKty_xFav_8"
      },
      "source": [
        "data.to_csv('izvjestaj_modificirano.csv', sep=';')"
      ],
      "execution_count": null,
      "outputs": []
    },
    {
      "cell_type": "code",
      "metadata": {
        "id": "7_2HkRidquzW"
      },
      "source": [
        "pickle.dump(data, open( \"izvjestaj_modificirano_pickle.p\", \"wb\" ), protocol=pickle.HIGHEST_PROTOCOL)"
      ],
      "execution_count": null,
      "outputs": []
    },
    {
      "cell_type": "code",
      "metadata": {
        "id": "ArBG9fFcbVPy"
      },
      "source": [
        "data2 = pickle.load(open(\"izvjestaj_modificirano_pickle.p\", 'rb'))\n",
        "data2"
      ],
      "execution_count": null,
      "outputs": []
    },
    {
      "cell_type": "code",
      "metadata": {
        "id": "73qAFNQJcgoI"
      },
      "source": [
        "from sklearn.impute import SimpleImputer\n",
        "data = pd.read_csv('drive/MyDrive/dataset.csv')\n",
        "data = data.replace('/', np.NaN)\n",
        "\n",
        "si = SimpleImputer(strategy='median') # ima jos mean, most_frequent i constant(fillna iz pandas)\n",
        "data.loc[:, 'Ispit1'] = si.fit_transform(data.loc[:, 'Ispit1'].values.reshape(-1,1))\n",
        "data.loc[:, 'Ispit2'] = si.fit_transform(data.loc[:, 'Ispit2'].values.reshape(-1,1)) #-1 je unknown dim koji ce numpy sam skontat od duzine niza koji proslijedimo\n",
        "\n",
        "si = SimpleImputer(strategy='mean')\n",
        "data.loc[:, 'Ispit1_popravni'] = si.fit_transform(data.loc[:, 'Ispit1_popravni'].values.reshape(-1,1))\n",
        "data.loc[:, 'Ispit2_popravni'] = si.fit_transform(data.loc[:, 'Ispit2_popravni'].values.reshape(-1,1))\n",
        "\n",
        "data"
      ],
      "execution_count": null,
      "outputs": []
    },
    {
      "cell_type": "code",
      "metadata": {
        "id": "HcMpwAuEoEl2"
      },
      "source": [
        "from sklearn.preprocessing import scale\n",
        "data['Ispit1'] = scale(data['Ispit1']) # scale funkcija je za z score normalizaciju\n",
        "data['Ispit2'] = scale(data['Ispit2'])\n",
        "data"
      ],
      "execution_count": null,
      "outputs": []
    },
    {
      "cell_type": "code",
      "metadata": {
        "id": "XmCzeN2joCju"
      },
      "source": [
        "from sklearn.preprocessing import MinMaxScaler\n",
        "mm = MinMaxScaler() # minMax normalizacija\n",
        "data['Ispit1_popravni'] = mm.fit_transform(data['Ispit1_popravni'].values.reshape(-1,1))\n",
        "data['Ispit2_popravni'] = mm.fit_transform(data['Ispit2_popravni'].values.reshape(-1,1))\n",
        "data"
      ],
      "execution_count": null,
      "outputs": []
    },
    {
      "cell_type": "code",
      "metadata": {
        "id": "mAix4aU4rdXp"
      },
      "source": [
        "data"
      ],
      "execution_count": null,
      "outputs": []
    },
    {
      "cell_type": "code",
      "metadata": {
        "id": "GRi1eNEtp1fQ"
      },
      "source": [
        "# zamjena nan sa nulom\n",
        "si = SimpleImputer(strategy='constant', fill_value = '0')\n",
        "data.loc[:, :] = si.fit_transform(data.loc[:, :].values)\n",
        "data"
      ],
      "execution_count": null,
      "outputs": []
    },
    {
      "cell_type": "code",
      "metadata": {
        "id": "iaj_NIGIr4mH"
      },
      "source": [
        "from sklearn.model_selection import train_test_split\n",
        "# data = pd.read_csv('drive/MyDrive/dataset.csv')\n",
        "data = data.replace('/', np.NaN)\n",
        "\n",
        "ocjene = data['Ocjena'].copy(deep=True)\n",
        "# ocjene = data['Ocjena'][:]\n",
        "data.drop(columns=['Ocjena'], inplace=True)\n",
        "adributi = data.to_numpy() # Data bez ocjena\n",
        "labele = ocjene.to_numpy() # Ocjene\n",
        "x_train, x_test, y_train, y_test = train_test_split(adributi, labele, test_size=0.2, random_state = 42)"
      ],
      "execution_count": null,
      "outputs": []
    },
    {
      "cell_type": "code",
      "metadata": {
        "id": "c6y3GChJwAHU"
      },
      "source": [
        "from sklearn.model_selection import train_test_split\n",
        "\n",
        "# X, Y = np.arange(10).reshape((5, 2)), range(5)\n",
        "\n",
        "# x - niz sa ostalim kolonama atribute (značajke)\n",
        "# y - NumPy niz sa ocjenama predstavlja labele,\n",
        "#  izvršiti podjelu na trening i testni skup podataka, pri čemu za testni skup treba uzeti 20% podataka\n",
        "\n",
        "# 42 je random seed za shuffle generator\n",
        "# test grupa ce imati 33% od originalnih podataka\n",
        "x_train, x_test, y_train, y_test = train_test_split(adributi, labele, test_size=0.2, random_state = 42) # The Answer to the Ultimate Question of Life, The Universe, and Everything"
      ],
      "execution_count": null,
      "outputs": []
    },
    {
      "cell_type": "code",
      "metadata": {
        "id": "ismC7VcfxnnH"
      },
      "source": [
        "Y_train.size"
      ],
      "execution_count": null,
      "outputs": []
    },
    {
      "cell_type": "code",
      "metadata": {
        "colab": {
          "base_uri": "https://localhost:8080/"
        },
        "id": "TrrUu4tmxqh6",
        "outputId": "609f9cc8-6938-4a62-90a6-dfd701d99649"
      },
      "source": [
        "Y_test.size"
      ],
      "execution_count": null,
      "outputs": [
        {
          "output_type": "execute_result",
          "data": {
            "text/plain": [
              "10"
            ]
          },
          "metadata": {
            "tags": []
          },
          "execution_count": 57
        }
      ]
    },
    {
      "cell_type": "code",
      "metadata": {
        "colab": {
          "base_uri": "https://localhost:8080/"
        },
        "id": "DH3hLFc6zvfo",
        "outputId": "9dbe76a8-e6c4-40b9-849d-14c9a062f4a8"
      },
      "source": [
        "labele.size"
      ],
      "execution_count": null,
      "outputs": [
        {
          "output_type": "execute_result",
          "data": {
            "text/plain": [
              "47"
            ]
          },
          "metadata": {
            "tags": []
          },
          "execution_count": 58
        }
      ]
    },
    {
      "cell_type": "code",
      "metadata": {
        "colab": {
          "base_uri": "https://localhost:8080/"
        },
        "id": "nAesxdcZRlF9",
        "outputId": "a3a9e6ca-2452-472a-f673-a9455d5025be"
      },
      "source": [
        "from sklearn.datasets import load_iris\n",
        "\n",
        "iris = load_iris()\n",
        "X = iris.data\n",
        "y = iris.target\n",
        "\n",
        "feature_names = iris.feature_names\n",
        "target_names = iris.target_names\n",
        "\n",
        "print(\"Nazivi znacajki:\", feature_names)\n",
        "print(\"Nazivi labela:\", target_names)\n",
        "print(\"\\nPrvih 5 redova X:\\n\", X[:5])\n"
      ],
      "execution_count": null,
      "outputs": [
        {
          "output_type": "stream",
          "text": [
            "Nazivi znacajki: ['sepal length (cm)', 'sepal width (cm)', 'petal length (cm)', 'petal width (cm)']\n",
            "Nazivi labela: ['setosa' 'versicolor' 'virginica']\n",
            "\n",
            "Prvih 5 redova X:\n",
            " [[5.1 3.5 1.4 0.2]\n",
            " [4.9 3.  1.4 0.2]\n",
            " [4.7 3.2 1.3 0.2]\n",
            " [4.6 3.1 1.5 0.2]\n",
            " [5.  3.6 1.4 0.2]]\n"
          ],
          "name": "stdout"
        }
      ]
    },
    {
      "cell_type": "code",
      "metadata": {
        "colab": {
          "base_uri": "https://localhost:8080/"
        },
        "id": "IGnXyzmoTqb1",
        "outputId": "bae5e06d-ca69-4425-c165-44fd8bc2027e"
      },
      "source": [
        "from sklearn.model_selection import train_test_split\n",
        "\n",
        "X_train, X_test, y_train, y_test = train_test_split(\n",
        "X, y, test_size = 0.3, random_state = 1)\n",
        "\n",
        "print(X_train.shape)\n",
        "print(X_test.shape)\n",
        "print(y_train.shape)\n",
        "print(y_test.shape)\n",
        "print(y.shape)"
      ],
      "execution_count": null,
      "outputs": [
        {
          "output_type": "stream",
          "text": [
            "(105, 4)\n",
            "(45, 4)\n",
            "(105,)\n",
            "(45,)\n",
            "(150,)\n"
          ],
          "name": "stdout"
        }
      ]
    },
    {
      "cell_type": "code",
      "metadata": {
        "colab": {
          "base_uri": "https://localhost:8080/"
        },
        "id": "QzQGt3C2Wyyo",
        "outputId": "ab6feaa6-e149-498c-aad3-0690f387b500"
      },
      "source": [
        "from sklearn.neighbors import KNeighborsClassifier\n",
        "from sklearn import metrics\n",
        "\n",
        "classifier_knn = KNeighborsClassifier(n_neighbors = 105)\n",
        "\n",
        "classifier_knn.fit(X_train, y_train)\n",
        "y_pred = classifier_knn.predict(X_test)\n",
        "\n",
        "print(\"Tacnost:\", metrics.accuracy_score(y_test, y_pred))"
      ],
      "execution_count": null,
      "outputs": [
        {
          "output_type": "execute_result",
          "data": {
            "text/plain": [
              "KNeighborsClassifier(algorithm='auto', leaf_size=30, metric='minkowski',\n",
              "                     metric_params=None, n_jobs=None, n_neighbors=105, p=2,\n",
              "                     weights='uniform')"
            ]
          },
          "metadata": {
            "tags": []
          },
          "execution_count": 47
        }
      ]
    },
    {
      "cell_type": "code",
      "metadata": {
        "colab": {
          "base_uri": "https://localhost:8080/"
        },
        "id": "lPkVLIQYtg4h",
        "outputId": "46be7e51-43d1-432f-b259-8340d63c56e6"
      },
      "source": [
        "y_pred = classifier_knn.predict(X_test)\n",
        "\n",
        "print(\"Tacnost:\", metrics.accuracy_score(y_test, y_pred))\n"
      ],
      "execution_count": null,
      "outputs": [
        {
          "output_type": "stream",
          "text": [
            "Tacnost: 0.28888888888888886\n"
          ],
          "name": "stdout"
        }
      ]
    },
    {
      "cell_type": "code",
      "metadata": {
        "colab": {
          "base_uri": "https://localhost:8080/"
        },
        "id": "7a0KIcWyzYVb",
        "outputId": "e309b6b0-230c-4db8-a523-424e9ac1b5da"
      },
      "source": [
        "#DEEP LEARNING\n",
        "from keras.datasets import mnist\n",
        "\n",
        "(x_train, y_train), (x_test, y_test) = mnist.load_data()\n",
        "print(x_train.shape)\n",
        "print(x_test.shape)\n",
        "print(y_train.shape)\n",
        "print(y_test.shape)\n",
        "\n",
        "import sys\n",
        "print(sys.getsizeof(x_train)) #Bytes\n",
        "print(sys.getsizeof(x_test))"
      ],
      "execution_count": null,
      "outputs": [
        {
          "output_type": "stream",
          "text": [
            "Downloading data from https://storage.googleapis.com/tensorflow/tf-keras-datasets/mnist.npz\n",
            "11493376/11490434 [==============================] - 0s 0us/step\n",
            "(60000, 28, 28)\n",
            "(10000, 28, 28)\n",
            "(60000,)\n",
            "(10000,)\n",
            "47040128\n",
            "7840128\n"
          ],
          "name": "stdout"
        }
      ]
    },
    {
      "cell_type": "code",
      "metadata": {
        "colab": {
          "base_uri": "https://localhost:8080/"
        },
        "id": "DfcZkfrq0h1J",
        "outputId": "b9cb93d6-1e50-424b-ff5f-73e15b6eb354"
      },
      "source": [
        "train_images = x_train.reshape((x_train.shape[0], 28 * 28))\n",
        "train_images = train_images.astype('float32') / 255\n",
        "\n",
        "test_images = x_test.reshape((x_test.shape[0], 28*28))\n",
        "test_images = test_images.astype('float32') / 255\n",
        "import sys\n",
        "print(sys.getsizeof(x_train)) #Bytes\n",
        "print(sys.getsizeof(x_test))"
      ],
      "execution_count": null,
      "outputs": [
        {
          "output_type": "stream",
          "text": [
            "47040128\n",
            "7840128\n"
          ],
          "name": "stdout"
        }
      ]
    },
    {
      "cell_type": "code",
      "metadata": {
        "id": "uj-cgWdQ13UP"
      },
      "source": [
        "from keras import models\n",
        "from keras import layers\n",
        "\n",
        "network = models.Sequential()\n",
        "network.add(layers.Dense(512, activation='relu', input_shape=(28 * 28,)))\n",
        "network.add(layers.Dense(10, activation='softmax'))\n"
      ],
      "execution_count": null,
      "outputs": []
    },
    {
      "cell_type": "code",
      "metadata": {
        "id": "LDU8c0JwzhWt"
      },
      "source": [
        "network.compile(optimizer='rmsprop',\n",
        "loss='categorical_crossentropy',\n",
        "metrics=['accuracy'])\n"
      ],
      "execution_count": null,
      "outputs": []
    },
    {
      "cell_type": "code",
      "metadata": {
        "id": "Ol2IS2GH4sxl"
      },
      "source": [
        "from keras.utils import to_categorical\n",
        "\n",
        "train_labels = to_categorical(y_train)\n",
        "test_labels = to_categorical(y_test)\n"
      ],
      "execution_count": null,
      "outputs": []
    },
    {
      "cell_type": "code",
      "metadata": {
        "id": "TnYIudYG4yPW"
      },
      "source": [
        "network.fit(train_images, train_labels, epochs=10, batch_size=60001)\n"
      ],
      "execution_count": null,
      "outputs": []
    },
    {
      "cell_type": "code",
      "metadata": {
        "colab": {
          "base_uri": "https://localhost:8080/"
        },
        "id": "-0d5voYd44fe",
        "outputId": "ec2bc0ca-4ed9-47e1-8bc5-b93ea2d20046"
      },
      "source": [
        "test_loss, test_acc = network.evaluate(test_images, test_labels)\n",
        "print('Tacnost za testni skup:', test_acc)\n"
      ],
      "execution_count": null,
      "outputs": [
        {
          "output_type": "stream",
          "text": [
            "313/313 [==============================] - 1s 2ms/step - loss: 0.1320 - accuracy: 0.9828\n",
            "Tacnost za testni skup: 0.9828000068664551\n"
          ],
          "name": "stdout"
        }
      ]
    },
    {
      "cell_type": "markdown",
      "metadata": {
        "id": "Vt-XHXuJMlgn"
      },
      "source": [
        "LAB3"
      ]
    },
    {
      "cell_type": "code",
      "metadata": {
        "colab": {
          "base_uri": "https://localhost:8080/",
          "height": 284
        },
        "id": "9g9DLfknMk_n",
        "outputId": "9be9d0ec-3886-4160-c25f-ad79a46d4f2a"
      },
      "source": [
        "data = pd.read_csv('drive/MyDrive/dataset.csv')\n",
        "data.describe()\n"
      ],
      "execution_count": null,
      "outputs": [
        {
          "output_type": "execute_result",
          "data": {
            "text/html": [
              "<div>\n",
              "<style scoped>\n",
              "    .dataframe tbody tr th:only-of-type {\n",
              "        vertical-align: middle;\n",
              "    }\n",
              "\n",
              "    .dataframe tbody tr th {\n",
              "        vertical-align: top;\n",
              "    }\n",
              "\n",
              "    .dataframe thead th {\n",
              "        text-align: right;\n",
              "    }\n",
              "</style>\n",
              "<table border=\"1\" class=\"dataframe\">\n",
              "  <thead>\n",
              "    <tr style=\"text-align: right;\">\n",
              "      <th></th>\n",
              "      <th>id</th>\n",
              "      <th>Prisustvo</th>\n",
              "      <th>UKUPNO</th>\n",
              "    </tr>\n",
              "  </thead>\n",
              "  <tbody>\n",
              "    <tr>\n",
              "      <th>count</th>\n",
              "      <td>47.000000</td>\n",
              "      <td>47.000000</td>\n",
              "      <td>47.000000</td>\n",
              "    </tr>\n",
              "    <tr>\n",
              "      <th>mean</th>\n",
              "      <td>24.000000</td>\n",
              "      <td>8.085106</td>\n",
              "      <td>31.418511</td>\n",
              "    </tr>\n",
              "    <tr>\n",
              "      <th>std</th>\n",
              "      <td>13.711309</td>\n",
              "      <td>3.977271</td>\n",
              "      <td>12.927211</td>\n",
              "    </tr>\n",
              "    <tr>\n",
              "      <th>min</th>\n",
              "      <td>1.000000</td>\n",
              "      <td>0.000000</td>\n",
              "      <td>0.000000</td>\n",
              "    </tr>\n",
              "    <tr>\n",
              "      <th>25%</th>\n",
              "      <td>12.500000</td>\n",
              "      <td>10.000000</td>\n",
              "      <td>23.835000</td>\n",
              "    </tr>\n",
              "    <tr>\n",
              "      <th>50%</th>\n",
              "      <td>24.000000</td>\n",
              "      <td>10.000000</td>\n",
              "      <td>35.890000</td>\n",
              "    </tr>\n",
              "    <tr>\n",
              "      <th>75%</th>\n",
              "      <td>35.500000</td>\n",
              "      <td>10.000000</td>\n",
              "      <td>40.525000</td>\n",
              "    </tr>\n",
              "    <tr>\n",
              "      <th>max</th>\n",
              "      <td>47.000000</td>\n",
              "      <td>10.000000</td>\n",
              "      <td>50.000000</td>\n",
              "    </tr>\n",
              "  </tbody>\n",
              "</table>\n",
              "</div>"
            ],
            "text/plain": [
              "              id  Prisustvo     UKUPNO\n",
              "count  47.000000  47.000000  47.000000\n",
              "mean   24.000000   8.085106  31.418511\n",
              "std    13.711309   3.977271  12.927211\n",
              "min     1.000000   0.000000   0.000000\n",
              "25%    12.500000  10.000000  23.835000\n",
              "50%    24.000000  10.000000  35.890000\n",
              "75%    35.500000  10.000000  40.525000\n",
              "max    47.000000  10.000000  50.000000"
            ]
          },
          "metadata": {
            "tags": []
          },
          "execution_count": 2
        }
      ]
    },
    {
      "cell_type": "code",
      "metadata": {
        "colab": {
          "base_uri": "https://localhost:8080/",
          "height": 365
        },
        "id": "xSqEjP-1NBvy",
        "outputId": "962fd122-901b-4bc9-ac93-dac767273955"
      },
      "source": [
        "data.hist()\n"
      ],
      "execution_count": null,
      "outputs": [
        {
          "output_type": "execute_result",
          "data": {
            "text/plain": [
              "array([[<matplotlib.axes._subplots.AxesSubplot object at 0x7fc429a46c10>,\n",
              "        <matplotlib.axes._subplots.AxesSubplot object at 0x7fc429a1fdd0>],\n",
              "       [<matplotlib.axes._subplots.AxesSubplot object at 0x7fc429966490>,\n",
              "        <matplotlib.axes._subplots.AxesSubplot object at 0x7fc42999ab10>]],\n",
              "      dtype=object)"
            ]
          },
          "metadata": {
            "tags": []
          },
          "execution_count": 3
        },
        {
          "output_type": "display_data",
          "data": {
            "image/png": "[encoded data removed]",
            "text/plain": [
              "<Figure size 432x288 with 4 Axes>"
            ]
          },
          "metadata": {
            "tags": [],
            "needs_background": "light"
          }
        }
      ]
    },
    {
      "cell_type": "code",
      "metadata": {
        "colab": {
          "base_uri": "https://localhost:8080/"
        },
        "id": "_q6_isvkON5a",
        "outputId": "ce2e3c4d-61f8-4032-9fc2-834d1b41b943"
      },
      "source": [
        "from sklearn.model_selection import train_test_split\n",
        "\n",
        "X, Y = np.arange(10).reshape((5, 2)), range(5)\n",
        "\n",
        "# 42 je random seed za generator\n",
        "# test grupa ce imati 33% od originalnih podataka\n",
        "x_train, x_test, Y_train, Y_test = train_test_split(X, Y, test_size=0.33, random_state=42)\n",
        "print(x_train)\n",
        "print(x_test)"
      ],
      "execution_count": null,
      "outputs": [
        {
          "output_type": "stream",
          "text": [
            "[[4 5]\n",
            " [0 1]\n",
            " [6 7]]\n",
            "[[2 3]\n",
            " [8 9]]\n"
          ],
          "name": "stdout"
        }
      ]
    },
    {
      "cell_type": "code",
      "metadata": {
        "colab": {
          "base_uri": "https://localhost:8080/"
        },
        "id": "uq57JN9_Nqe7",
        "outputId": "adc571c6-6d76-4b2c-ebcb-98882b8333c9"
      },
      "source": [
        "from sklearn.preprocessing import MinMaxScaler\n",
        "\n",
        "\n",
        "scaler = MinMaxScaler().fit(x_train)\n",
        "x_train = scaler.fit_transform(x_train)\n",
        "x_test = scaler.fit_transform(x_test)\n",
        "print(x_train)\n",
        "print(x_test)"
      ],
      "execution_count": null,
      "outputs": [
        {
          "output_type": "stream",
          "text": [
            "[[0.66666667 0.66666667]\n",
            " [0.         0.        ]\n",
            " [1.         1.        ]]\n",
            "[[0. 0.]\n",
            " [1. 1.]]\n"
          ],
          "name": "stdout"
        }
      ]
    },
    {
      "cell_type": "code",
      "metadata": {
        "colab": {
          "base_uri": "https://localhost:8080/"
        },
        "id": "dbiAglZ6Nt8F",
        "outputId": "95ab5731-20b3-463a-b9fa-c44e2a426027"
      },
      "source": [
        "from sklearn.preprocessing import StandardScaler\n",
        "\n",
        "scaler = StandardScaler().fit(x_train)\n",
        "x_train = scaler.transform(x_train)\n",
        "x_test = scaler.transform(x_test)\n",
        "print(x_train)\n",
        "print(x_test)"
      ],
      "execution_count": null,
      "outputs": [
        {
          "output_type": "stream",
          "text": [
            "[[ 0.26726124  0.26726124]\n",
            " [-1.33630621 -1.33630621]\n",
            " [ 1.06904497  1.06904497]]\n",
            "[[-1.33630621 -1.33630621]\n",
            " [ 1.06904497  1.06904497]]\n"
          ],
          "name": "stdout"
        }
      ]
    },
    {
      "cell_type": "markdown",
      "metadata": {
        "id": "tVFaOIQXF-T1"
      },
      "source": [
        " Za aktivacijsku funkciju\n",
        "izlaznog sloja, koristi se softmax kod višeklasne klasifikacije, a sigmoid kod binarne klasifikacije"
      ]
    },
    {
      "cell_type": "code",
      "metadata": {
        "id": "BmZJZgNeT5K5"
      },
      "source": [
        "from keras import models\n",
        "from keras import layers\n",
        "\n",
        "# arhitektura mreže\n",
        "model = models.Sequential()\n",
        "#prvi sloj, relu aktivakcijska funkcija\n",
        "# input shape mora odgovarati broju atributa skupa podataka\n",
        "model.add(layers.Dense(8, activation='relu', input_shape=(4000,)))\n",
        "model.add(layers.Dense(8, activation='relu'))\n",
        "model.add(layers.Dense(1, activation='sigmoid'))\n",
        "\n",
        "import keras\n",
        "# specific\n",
        "# Stopa učenja - kontroliše koliko brzo model uči (može biti konstanta ili adaptivna);\n",
        "opt = keras.optimizers.Adam(learning_rate=0.01)\n",
        "model.compile(loss='categorical_crossentropy', optimizer=opt, metrics=['accuracy'])"
      ],
      "execution_count": null,
      "outputs": []
    },
    {
      "cell_type": "code",
      "metadata": {
        "id": "rlHaCOFiJun8"
      },
      "source": [
        "# default\n",
        "model.compile(optimizer='adam', loss='binary_crossentropy' ,metrics=['accuracy'])\n"
      ],
      "execution_count": null,
      "outputs": []
    },
    {
      "cell_type": "code",
      "metadata": {
        "id": "Z7rVzw92SRD_"
      },
      "source": [
        "import keras\n",
        "# specific\n",
        "# Stopa učenja - kontroliše koliko brzo model uči (može biti konstanta ili adaptivna);\n",
        "opt = keras.optimizers.Adam(learning_rate=0.01)\n",
        "model.compile(loss='categorical_crossentropy', optimizer=opt, metrics=['accuracy'])\n"
      ],
      "execution_count": null,
      "outputs": []
    },
    {
      "cell_type": "markdown",
      "metadata": {
        "id": "mRNDMzmVS29G"
      },
      "source": [
        "Funkcija gubitka za regresiju je srednja kvadratna greška, za binarnu klasifikaciju binarna unakrsna entropija (eng.\n",
        "binary cross entropy), a za višeklasnu klasifikaciju kategorička unakrsna entropija (eng. categorical cross entropy).  \n",
        "Za optimizator je nešto širi izbor, no često se koriste RMSprop i Adam. Oba ova algoritma su zasnovana na gradijentu. U okviru Kerasa podrazumijevana početna vrijednost stope učenja za oba ova algoritma je 0.001.\n",
        "Metrika je primarno definisana domenom problema i o tome šta je bitno za neki konkretan problem. Međutim,\n",
        "metrika koja se koristi u gotovo svim primjenama je tačnost i ona mjeri broj ispravno klasificiranih instanci podataka\n",
        "u odnosu na ukupan broj podataka koji su podvrgnuti klasifikaciji."
      ]
    },
    {
      "cell_type": "code",
      "metadata": {
        "id": "s6Z6JlHuYpLK"
      },
      "source": [
        "# Nije dovoljno samo rekompajlirati model, već je potrebno model opet u potpunosti definisati ili\n",
        "# alternativno pohraniti težine modela prije početka treniranja te ih kasnije ponovo učitati. \n",
        "# ... Definisanje modela ...\n",
        "model.save_weights(’model.h5’) # Spasavanje modela\n",
        "# ... Ucitavanje koeficijenata spasenog modela ...\n",
        "model.load_weights(’model.h5’) # Ponovno ucitavanje modela\n"
      ],
      "execution_count": null,
      "outputs": []
    },
    {
      "cell_type": "code",
      "metadata": {
        "id": "DVBIoV69YyiB"
      },
      "source": [
        "# Korištenje treniranog modela\n",
        "\n",
        "results = model.evaluate(x_test, y_test)\n",
        "\n",
        "# Osnovni parametri koje funkcija evaluate prima su skup atributa podataka za testiranje i niz odgovarajućih labela.\n",
        "# Kao rezultat se dobija vrijednost funkcije gubitka i vrijednosti metrika nad testnim skupom podataka.\n",
        "\n"
      ],
      "execution_count": null,
      "outputs": []
    },
    {
      "cell_type": "code",
      "metadata": {
        "id": "rPp1HoqOY6ls"
      },
      "source": [
        "# U stvarnoj primjeni koristi se metoda predict koja daje rezultat klasifikacije modela na nekom podatku ili skupu\n",
        "# podataka koji se želi klasificirati i za koji nije poznata tačna klasa. Za ovu svrhu se i pravi i trenira model kako bi\n",
        "# on dao što bolju predikciju tačne klase koja nije poznata\n",
        "\n",
        "prediction = model.predict(real_data)\n"
      ],
      "execution_count": null,
      "outputs": []
    },
    {
      "cell_type": "code",
      "metadata": {
        "id": "YK61JQ9ucqm5"
      },
      "source": [
        "red = pd.read_csv('drive/MyDrive/winequality-red.csv', sep=';')\n",
        "white = pd.read_csv('drive/MyDrive/winequality-white.csv', sep=';')\n"
      ],
      "execution_count": null,
      "outputs": []
    },
    {
      "cell_type": "code",
      "metadata": {
        "id": "NkMm7Ekic9B4"
      },
      "source": [
        "white.describe()"
      ],
      "execution_count": null,
      "outputs": []
    },
    {
      "cell_type": "code",
      "metadata": {
        "id": "8wZ_KO_ReQR3"
      },
      "source": [
        "white['label'] = 0\n",
        "red['label'] = 1"
      ],
      "execution_count": null,
      "outputs": []
    },
    {
      "cell_type": "code",
      "metadata": {
        "id": "9DmNEmqIgPmA"
      },
      "source": [
        "wines = red.append(white, ignore_index=True)\n",
        "wines.describe()"
      ],
      "execution_count": null,
      "outputs": []
    },
    {
      "cell_type": "code",
      "metadata": {
        "id": "lOyfl4xHgtSy"
      },
      "source": [
        "fig = plt.figure(figsize = (15,20))\n",
        "ax = fig.gca()\n",
        "wines.hist(ax = ax)"
      ],
      "execution_count": null,
      "outputs": []
    },
    {
      "cell_type": "code",
      "metadata": {
        "colab": {
          "base_uri": "https://localhost:8080/"
        },
        "id": "tzZLARnAiXRS",
        "outputId": "c0736cdc-0f41-4e1a-e35d-f575f88e5403"
      },
      "source": [
        "wines.size\n",
        "wines.loc[wines['label'] != 1].size\n",
        "wines.size / len(wines.index)"
      ],
      "execution_count": null,
      "outputs": [
        {
          "output_type": "execute_result",
          "data": {
            "text/plain": [
              "13.0"
            ]
          },
          "metadata": {
            "tags": []
          },
          "execution_count": 35
        }
      ]
    },
    {
      "cell_type": "code",
      "metadata": {
        "id": "h3Twa9vglcFX"
      },
      "source": [
        "from sklearn.model_selection import train_test_split\n",
        "# wines = wines.replace('/', np.NaN)\n",
        "\n",
        "y = wines['label'].copy(deep=True)\n",
        "# ocjene = data['Ocjena'][:]\n",
        "wines.drop(columns=['label'], inplace=True)\n",
        "x = wines.to_numpy() # Data bez ocjena\n",
        "y = y.to_numpy() # Ocjene\n",
        "x_train, x_test, y_train, y_test = train_test_split(x, y, test_size=0.99, random_state = 42)"
      ],
      "execution_count": null,
      "outputs": []
    },
    {
      "cell_type": "code",
      "metadata": {
        "id": "9CkII-u3NqaO"
      },
      "source": [
        "x_train, x_test, y_train, y_test = train_test_split(x, y, test_size=0.2, random_state = 42)"
      ],
      "execution_count": null,
      "outputs": []
    },
    {
      "cell_type": "code",
      "metadata": {
        "id": "TJl1xLwMn7o8"
      },
      "source": [
        "from keras import models\n",
        "from keras import layers\n",
        "\n",
        "# arhitektura mreže\n",
        "model = models.Sequential()\n",
        "#prvi sloj, relu aktivakcijska funkcija\n",
        "# input shape mora odgovarati broju atributa skupa podataka\n",
        "model.add(layers.Dense(8, activation='relu', input_shape=(12,)))\n",
        "model.add(layers.Dense(8, activation='relu'))\n",
        "model.add(layers.Dense(8, activation='relu'))\n",
        "model.add(layers.Dense(1, activation='sigmoid'))\n",
        "\n",
        "import keras\n",
        "# specific\n",
        "# Stopa učenja - kontroliše koliko brzo model uči (može biti konstanta ili adaptivna);\n",
        "opt = keras.optimizers.Adam(learning_rate=0.001)\n",
        "model.compile(loss='binary_crossentropy', optimizer=opt, metrics=['accuracy'])\n",
        "# model.compile(optimizer='adam', loss='binary_crossentropy' ,metrics=['accuracy'])"
      ],
      "execution_count": null,
      "outputs": []
    },
    {
      "cell_type": "code",
      "metadata": {
        "id": "w1qeTk7nWvRG"
      },
      "source": [
        "!cat /proc/cpuinfo"
      ],
      "execution_count": null,
      "outputs": []
    },
    {
      "cell_type": "code",
      "metadata": {
        "id": "2oNez_18pVHR"
      },
      "source": [
        "# x_train su podaci za trening\n",
        "# y_train su labele koje dogovaraju skupu x\n",
        "# valdiation split je udio podataka koji ce se uzeti iz trening skupa za validation\n",
        "hist = model.fit(x_train, y_train, epochs=20, batch_size=8, validation_split=0.2)\n",
        "history = hist.history\n",
        "# Kao rezultat metoda fit vraća History objekat koji sadrži vrijednosti funkcije gubitka i metrika koje su definisane\n",
        "# za model pri kompajliranju za svaku epohu nad skupom za treniranje i za validaciju (ukoliko je validacija vršena).\n",
        "# Na osnovu tih podataka se vrši analiza i donosi odluka o tome da li je model dovoljno dobar i spreman da se koristi\n",
        "# nad pravim, odnosno testnim podacima."
      ],
      "execution_count": null,
      "outputs": []
    },
    {
      "cell_type": "code",
      "metadata": {
        "id": "IxFKdRfqqBI8"
      },
      "source": [
        "acc = history['accuracy']\n",
        "loss_values = history['loss']\n",
        "val_loss_values = history['val_loss']\n",
        "epochs = range(1, len(acc) + 1)\n",
        "plt.plot(epochs, loss_values, 'bo', label='Training loss')\n",
        "plt.plot(epochs, val_loss_values, 'b', label='Validation loss')\n",
        "plt.title('Training and validation loss')\n",
        "plt.xlabel('Epochs')\n",
        "plt.ylabel('Loss')\n",
        "plt.legend()\n",
        "plt.show()\n",
        "plt.clf()\n",
        "acc_values = history['accuracy']\n",
        "val_acc_values = history['val_accuracy']\n",
        "plt.plot(epochs, acc_values, 'bo', label='Training acc')\n",
        "plt.plot(epochs, val_acc_values, 'b', label='Validation acc')\n",
        "plt.title('Training and validation accuracy')\n",
        "plt.xlabel('Epochs')\n",
        "plt.ylabel('Loss')\n",
        "plt.legend()\n"
      ],
      "execution_count": null,
      "outputs": []
    },
    {
      "cell_type": "code",
      "metadata": {
        "colab": {
          "base_uri": "https://localhost:8080/"
        },
        "id": "BuW0Z-xfwqlR",
        "outputId": "aad88ddc-c565-4068-a343-fdc6d09a588e"
      },
      "source": [
        "from sklearn.preprocessing import StandardScaler\n",
        "\n",
        "scaler = StandardScaler().fit(x_train)\n",
        "x_train = scaler.transform(x_train)\n",
        "\n",
        "x_test = scaler.transform(x_test)\n",
        "x_train\n",
        "scaler.mean_"
      ],
      "execution_count": null,
      "outputs": [
        {
          "output_type": "execute_result",
          "data": {
            "text/plain": [
              "array([-6.70070806e-15, -1.02912569e-14,  2.92219160e-14, -8.17339483e-16,\n",
              "        3.74083421e-15,  3.92647666e-17,  4.83439428e-17,  2.22405322e-12,\n",
              "        8.20163641e-15, -7.38930649e-15, -2.03044987e-14, -7.12704648e-16])"
            ]
          },
          "metadata": {
            "tags": []
          },
          "execution_count": 72
        }
      ]
    },
    {
      "cell_type": "code",
      "metadata": {
        "colab": {
          "base_uri": "https://localhost:8080/",
          "height": 590
        },
        "id": "XwuuB_7Yx55P",
        "outputId": "43b8d1d7-4dfc-4974-8248-4fb4f6cb9800"
      },
      "source": [
        "acc = history['accuracy']\n",
        "loss_values = history['loss']\n",
        "val_loss_values = history['val_loss']\n",
        "epochs = range(1, len(acc) + 1)\n",
        "plt.plot(epochs, loss_values, 'bo', label='Training loss')\n",
        "plt.plot(epochs, val_loss_values, 'b', label='Validation loss')\n",
        "plt.title('Training and validation loss')\n",
        "plt.xlabel('Epochs')\n",
        "plt.ylabel('Loss')\n",
        "plt.legend()\n",
        "plt.show()\n",
        "plt.clf()\n",
        "acc_values = history['accuracy']\n",
        "val_acc_values = history['val_accuracy']\n",
        "plt.plot(epochs, acc_values, 'bo', label='Training acc')\n",
        "plt.plot(epochs, val_acc_values, 'b', label='Validation acc')\n",
        "plt.title('Training and validation accuracy')\n",
        "plt.xlabel('Epochs')\n",
        "plt.ylabel('Loss')\n",
        "plt.legend()\n"
      ],
      "execution_count": null,
      "outputs": [
        {
          "output_type": "display_data",
          "data": {
            "image/png": "[encoded data removed]",
            "text/plain": [
              "<Figure size 432x288 with 1 Axes>"
            ]
          },
          "metadata": {
            "tags": [],
            "needs_background": "light"
          }
        },
        {
          "output_type": "execute_result",
          "data": {
            "text/plain": [
              "<matplotlib.legend.Legend at 0x7faddc6d3e90>"
            ]
          },
          "metadata": {
            "tags": []
          },
          "execution_count": 63
        },
        {
          "output_type": "display_data",
          "data": {
            "image/png": "[encoded data removed]",
            "text/plain": [
              "<Figure size 432x288 with 1 Axes>"
            ]
          },
          "metadata": {
            "tags": [],
            "needs_background": "light"
          }
        }
      ]
    },
    {
      "cell_type": "code",
      "metadata": {
        "colab": {
          "base_uri": "https://localhost:8080/"
        },
        "id": "0ISEY25u8Ntw",
        "outputId": "db29aa39-40ce-4963-e91c-d492c337c0da"
      },
      "source": [
        "from sklearn.preprocessing import StandardScaler\n",
        "from sklearn.preprocessing import scale\n",
        "\n",
        "data = np.array([8,11,13,14,14,15,83])\n",
        "\n",
        "data = scale(data)\n",
        "data"
      ],
      "execution_count": null,
      "outputs": [
        {
          "output_type": "execute_result",
          "data": {
            "text/plain": [
              "array([-0.58834841, -0.46721785, -0.38646415, -0.3460873 , -0.3460873 ,\n",
              "       -0.30571045,  2.43991545])"
            ]
          },
          "metadata": {
            "tags": []
          },
          "execution_count": 82
        }
      ]
    },
    {
      "cell_type": "code",
      "metadata": {
        "colab": {
          "base_uri": "https://localhost:8080/"
        },
        "id": "mkyhr6X59m7W",
        "outputId": "c4fb5538-7be3-4bd9-987d-46be6676720a"
      },
      "source": [
        "print(scaler.mean_)"
      ],
      "execution_count": null,
      "outputs": [
        {
          "output_type": "stream",
          "text": [
            "[24.   0.5]\n"
          ],
          "name": "stdout"
        }
      ]
    },
    {
      "cell_type": "code",
      "metadata": {
        "colab": {
          "base_uri": "https://localhost:8080/"
        },
        "id": "YIFU_i7C8pvT",
        "outputId": "4623ada8-a94e-4875-aa69-d9998c215baf"
      },
      "source": [
        "print(scaler.transform(data))\n",
        "print(scaler.transform([[1, 1]]))"
      ],
      "execution_count": null,
      "outputs": [
        {
          "output_type": "stream",
          "text": [
            "[[-0.60416803 -1.        ]\n",
            " [-0.49088653 -1.        ]\n",
            " [-0.41536552 -1.        ]\n",
            " [-0.37760502  1.        ]\n",
            " [-0.33984452  1.        ]\n",
            " [ 2.22786962  1.        ]]\n",
            "[[-0.86849155  1.        ]]\n"
          ],
          "name": "stdout"
        }
      ]
    },
    {
      "cell_type": "markdown",
      "metadata": {
        "id": "w2Zy0O267IaE"
      },
      "source": [
        "LAB4"
      ]
    },
    {
      "cell_type": "code",
      "metadata": {
        "id": "IzR-zQ-JG7io"
      },
      "source": [
        "#zsr\n",
        "spam = pd.read_csv('drive/MyDrive/spamdetection.csv')\n",
        "# spam.describe()\n",
        "# spam.head()"
      ],
      "execution_count": null,
      "outputs": []
    },
    {
      "cell_type": "code",
      "metadata": {
        "id": "D_exIkyPIGC8"
      },
      "source": [
        "y = spam['Label'].copy(deep=True)\n",
        "# ocjene = data['Ocjena'][:]\n",
        "spam.drop(columns=['Label'], inplace=True)\n",
        "# x = spam.to_numpy() # Data bez ocjena\n",
        "# y = y.to_numpy() # Ocjene\n",
        "# x_train, x_test, y_train, y_test = train_test_split(x, y, test_size=0.99, random_state = 42)"
      ],
      "execution_count": null,
      "outputs": []
    },
    {
      "cell_type": "code",
      "metadata": {
        "id": "sZ-UCSqvbCY1"
      },
      "source": [
        "y"
      ],
      "execution_count": null,
      "outputs": []
    },
    {
      "cell_type": "code",
      "metadata": {
        "id": "QtI7i239JHGd"
      },
      "source": [
        "spam.replace('</p>', '', inplace=True, regex=True)\n",
        "spam.replace('<p>', '', inplace=True, regex=True)"
      ],
      "execution_count": null,
      "outputs": []
    },
    {
      "cell_type": "code",
      "metadata": {
        "colab": {
          "base_uri": "https://localhost:8080/"
        },
        "id": "tlsHKswYJZRe",
        "outputId": "912a7807-e1fd-450e-fec8-cdd71f173f3b"
      },
      "source": [
        "len(spam.loc[0, 'Message'])"
      ],
      "execution_count": null,
      "outputs": [
        {
          "output_type": "execute_result",
          "data": {
            "text/plain": [
              "417"
            ]
          },
          "metadata": {
            "tags": []
          },
          "execution_count": 32
        }
      ]
    },
    {
      "cell_type": "code",
      "metadata": {
        "id": "2wrl4lx1KSDa"
      },
      "source": [
        "from sklearn.model_selection import train_test_split\n",
        "\n",
        "x_train, x_test, y_train, y_test = train_test_split(spam.to_numpy(), y.to_numpy(), test_size=0.10, random_state = 42)"
      ],
      "execution_count": null,
      "outputs": []
    },
    {
      "cell_type": "code",
      "metadata": {
        "id": "RuliDXf_a3Ak"
      },
      "source": [
        "x_train_arr"
      ],
      "execution_count": null,
      "outputs": []
    },
    {
      "cell_type": "code",
      "metadata": {
        "id": "Qi_xfDa2O5tE"
      },
      "source": [
        "x_train['Message'].to_numpy()"
      ],
      "execution_count": null,
      "outputs": []
    },
    {
      "cell_type": "code",
      "metadata": {
        "id": "NswVgSUjRfZI"
      },
      "source": [
        "# nije potrebno\n",
        "x_train_arr= []\n",
        "for niz in x_train:\n",
        "  x_train_arr.append(str(''.join(niz)))\n",
        "\n",
        "x_test_arr= []\n",
        "for niz in x_test:\n",
        "  x_test_arr.append(str(''.join(niz)))"
      ],
      "execution_count": null,
      "outputs": []
    },
    {
      "cell_type": "code",
      "metadata": {
        "id": "tFVPv0qcWjls"
      },
      "source": [
        "from keras.preprocessing.text import Tokenizer\n",
        "\n",
        "tokenizer = Tokenizer()\n",
        "# tokenizer.fit_on_texts(x_train_arr)\n",
        "tokenizer.fit_on_texts(x_train_arr)\n",
        "train_data_seq = tokenizer.texts_to_sequences(x_train_arr)\n",
        "test_data_seq = tokenizer.texts_to_sequences(x_test_arr)"
      ],
      "execution_count": null,
      "outputs": []
    },
    {
      "cell_type": "code",
      "metadata": {
        "id": "QK-A8sKk5fPp"
      },
      "source": [
        "from keras.preprocessing.text import Tokenizer\n",
        "\n",
        "tokenizer = Tokenizer()\n",
        "# tokenizer.fit_on_texts(x_train_arr)\n",
        "tokenizer.fit_on_texts(x_train['Message'].to_numpy())\n",
        "train_data_seq = tokenizer.texts_to_sequences(x_train['Message'].to_numpy())\n",
        "test_data_seq = tokenizer.texts_to_sequences(x_test['Message'].to_numpy())\n",
        "#pretvaranje teksta u nizove cijelih brojeva na način da se svaka riječ zamijeni odgovarajućim brojem iz prethodno\n",
        "#generisanog rječnika. Ono što se često uzima kao podrazumijevano pri tokenizaciji je to da se znakovi interpunkcije\n",
        "#ignorišu i to da tokenizacija nije osjetljiva na velika i mala slova\n"
      ],
      "execution_count": null,
      "outputs": []
    },
    {
      "cell_type": "code",
      "metadata": {
        "colab": {
          "base_uri": "https://localhost:8080/"
        },
        "id": "MO4zP1lwNr9d",
        "outputId": "b99f9f54-0702-49bc-e5fe-94197c1d4516"
      },
      "source": [
        "print(tokenizer.word_index) # Ispisuje generisani rjecnik\n",
        "print(tokenizer.word_counts) # Ispisuje broj ponavljanja svake od rijeci u tekstu"
      ],
      "execution_count": null,
      "outputs": [
        {
          "output_type": "stream",
          "text": [
            "{'the': 1, 'and': 2, 'of': 3, 'a': 4, 'i': 5, 'to': 6, 'my': 7, 'that': 8, 'his': 9, 'he': 10, 'in': 11, 'this': 12, 'but': 13, 'from': 14, 'was': 15, 'door': 16, 'or': 17, 'chamber': 18, 'on': 19, 'at': 20, 'is': 21, 'nor': 22, 'by': 23, 'for': 24, 'had': 25, 'not': 26, 'bird': 27, 'raven': 28, 'with': 29, 'nevermore': 30, 'thy': 31, 'then': 32, 'it': 33, 'there': 34, 'me': 35, 'more': 36, 'lenore': 37, 'still': 38, 'so': 39, 'one': 40, 'said': 41, 'soul': 42, 'no': 43, 'name': 44, 'childe': 45, 'if': 46, 'into': 47, 'above': 48, 'before': 49, 'nothing': 50, 'what': 51, 'bust': 52, 'all': 53, 'him': 54, 'as': 55, 'be': 56, 'some': 57, 'yet': 58, 'upon': 59, 'did': 60, 'tis': 61, 'though': 62, 'only': 63, 'heart': 64, 'tapping': 65, 'word': 66, 'whom': 67, 'quoth': 68, 'sad': 69, 'than': 70, 'whose': 71, 'where': 72, 'would': 73, 'floor': 74, 'now': 75, 'harold': 76, 'her': 77, 'ah': 78, 'none': 79, 'ever': 80, 'angels': 81, 'oer': 82, 'have': 83, 'long': 84, 'thee': 85, 'its': 86, 'leave': 87, 'these': 88, 'here': 89, 'rapping': 90, 'are': 91, 'fancy': 92, 'take': 93, 'each': 94, 'might': 95, 'back': 96, 'sat': 97, 'loved': 98, 'lamplight': 99, 'href': 100, 'https': 101, 'www': 102, 'com': 103, 'visiter': 104, 'shall': 105, 'made': 106, 'many': 107, 'who': 108, 'implore': 109, 'perched': 110, 'within': 111, 'spoken': 112, 'shore': 113, 'sitting': 114, 'bore': 115, 'velvet': 116, 'yore': 117, 'will': 118, 'came': 119, 'weary': 120, 'maiden': 121, 'land': 122, 'till': 123, 'soon': 124, 'mote': 125, 'lining': 126, 'sent': 127, 'clasp': 128, 'fowl': 129, 'been': 130, 'radiant': 131, 'knew': 132, 'oh': 133, 'parting': 134, 'let': 135, 'mine': 136, 'which': 137, 'grew': 138, 'seemed': 139, 'entreating': 140, 'dear': 141, 'save': 142, 'god': 143, 'once': 144, 'out': 145, 'could': 146, 'while': 147, 'beguiling': 148, 'nights': 149, 'deemed': 150, 'when': 151, 'ghastly': 152, 'breast': 153, 'ominous': 154, 'whether': 155, 'stillness': 156, 'friends': 157, 'nepenthe': 158, 'prophet': 159, 'ungainly': 160, 'smiling': 161, 'caught': 162, 'flown': 163, 'she': 164, 'days': 165, 'something': 166, 'known': 167, 'you': 168, 'thou': 169, 'unto': 170, 'sighed': 171, 'deem': 172, 'muttered': 173, 'they': 174, 'thing': 175, 'dreaming': 176, 'such': 177, 'just': 178, 'burden': 179, 'felt': 180, 'few': 181, 'stood': 182, 'sure': 183, 'never': 184, 'token': 185, 'say': 186, 'quaff': 187, 'entrance': 188, 'darkness': 189, 'native': 190, 'scarce': 191, 'below': 192, 'time': 193, 'other': 194, 'whispered': 195, 'love': 196, 'truly': 197, 'tell': 198, 'little': 199, 'ancient': 200, 'hall': 201, 'lost': 202, 'eyes': 203, 'devil': 204, 'napping': 205, 'evilprophet': 206, 'morrow': 207, 'hope': 208, 'rare': 209, 'like': 210, 'were': 211, 'followed': 212, 'grim': 213, 'an': 214, 'pallas': 215, 'sore': 216, 'hath': 217, 'day': 218, 'tempest': 219, 'mystery': 220, 'we': 221, 'gently': 222, 'explore': 223, 'sought': 224, 'surely': 225, 'heard': 226, 'plutonian': 227, 'sorrow': 228, 'open': 229, 'violet': 230, 'glee': 231, 'festal': 232, 'cheer': 233, 'sea': 234, 'unbrokenquit': 235, 'perchance': 236, 'sir': 237, 'pondered': 238, 'wished': 239, 'vaunted': 240, 'later': 241, 'true': 242, 'press': 243, 'bower': 244, 'woe': 245, 'youhere': 246, 'sadness': 247, 'muse': 248, 'parasites': 249, 'kiss': 250, 'florid': 251, 'stock': 252, 'most': 253, 'lordly': 254, 'ive': 255, 'aught': 256, 'nevernevermore': 257, 'merely': 258, 'maddest': 259, 'shell': 260, 'fellow': 261, 'melancholy': 262, 'begun': 263, 'air': 264, 'ways': 265, 'any': 266, 'alone': 267, 'wheeled': 268, 'linking': 269, 'books': 270, 'men': 271, 'divining': 272, 'ere': 273, 'fame': 274, 'spoke': 275, 'joyless': 276, 'again': 277, 'pillared': 278, 'change': 279, 'mirthful': 280, 'pomp': 281, 'know': 282, 'pilgrimage': 283, 'separate': 284, 'thrilled': 285, 'lady': 286, 'flee': 287, 'suits': 288, 'lore': 289, 'respiterespite': 290, 'upstarting': 291, 'drowsy': 292, 'get': 293, 'girls': 294, 'sooth': 295, 'massy': 296, 'over': 297, 'outpour': 298, 'shamed': 299, 'times': 300, 'wight': 301, 'whilome': 302, 'isle': 303, 'through': 304, 'heavenly': 305, 'present': 306, 'heartless': 307, 'suddenly': 308, 'answer': 309, 'seeing': 310, 'stern': 311, 'lie': 312, 'reverie': 313, 'soils': 314, 'stayed': 315, 'blessed': 316, 'maidens': 317, 'relief': 318, 'feather': 319, 'haply': 320, 'power': 321, 'amiss': 322, 'fiery': 323, 'suffice': 324, 'olden': 325, 'ebony': 326, 'nine': 327, 'happy': 328, 'off': 329, 'eros': 330, 'doubtless': 331, 'mighty': 332, 'core': 333, 'fluttered': 334, 'unseen': 335, 'hesitating': 336, 'yes': 337, 'carnal': 338, 'wins': 339, 'fiend': 340, 'farther': 341, 'monks': 342, 'pile': 343, 'moths': 344, 'disporting': 345, 'loneliness': 346, 'art': 347, 'front': 348, 'wrought': 349, 'shades': 350, 'longed': 351, 'adversity': 352, 'blazon': 353, 'wrong': 354, 'usby': 355, 'stately': 356, 'along': 357, 'left': 358, 'gloating': 359, 'wretch': 360, 'theeby': 361, 'forgiveness': 362, 'form': 363, 'lands': 364, 'companie': 365, 'light': 366, 'adore': 367, 'terrors': 368, 'gild': 369, 'spent': 370, 'finds': 371, 'much': 372, 'losel': 373, 'longer': 374, 'peace': 375, 'adieu': 376, 'unmerciful': 377, 'undaunted': 378, 'cared': 379, 'footfalls': 380, 'gloated': 381, 'dreary': 382, 'beating': 383, 'utters': 384, 'vast': 385, 'consecrate': 386, 'condemned': 387, 'thereis': 388, 'master': 389, 'floating': 390, 'dreams': 391, 'sign': 392, 'ease': 393, 'help': 394, 'dote': 395, 'nearly': 396, 'passed': 397, 'silence': 398, 'wassailers': 399, 'horror': 400, 'neer': 401, 'discourse': 402, 'meant': 403, 'disappointed': 404, 'repeating': 405, 'unbroken': 406, 'crime': 407, 'oft': 408, 'seat': 409, 'third': 410, 'brow': 411, 'bacchanals': 412, 'mortals': 413, 'satiety': 414, 'countenance': 415, 'wore': 416, 'honeyed': 417, 'partings': 418, 'lay': 419, 'ee': 420, 'awake': 421, 'perfumed': 422, 'nightly': 423, 'beyond': 424, 'near': 425, 'pollution': 426, 'coffined': 427, 'head': 428, 'sacred': 429, 'lurked': 430, 'lies': 431, 'silken': 432, 'formed': 433, 'sullen': 434, 'glare': 435, 'shadow': 436, 'doubting': 437, 'mefilled': 438, 'high': 439, 'forgot': 440, 'rill': 441, 'plain': 442, 'metell': 443, 'myself': 444, 'heaven': 445, 'sister': 446, 'agen': 447, 'care': 448, 'turning': 449, 'counsel': 450, 'befell': 451, 'resolved': 452, 'feels': 453, 'longdeserted': 454, 'reclining': 455, 'sinking': 456, 'drop': 457, 'sing': 458, 'thereat': 459, 'sight': 460, 'cushioned': 461, 'obeisance': 462, 'flash': 463, 'condole': 464, 'fall': 465, 'black': 466, 'done': 467, 'gaunt': 468, 'holy': 469, 'riot': 470, 'bidding': 471, 'sun': 472, 'things': 473, 'streaming': 474, 'grief': 475, 'tear': 476, 'moment': 477, 'curtain': 478, 'departed': 479, 'harolds': 480, 'shaven': 481, 'fulness': 482, 'evermore': 483, 'fact': 484, 'feere': 485, 'bleak': 486, 'ghost': 487, 'grace': 488, 'since': 489, 'een': 490, 'vainly': 491, 'expressing': 492, 'monastic': 493, 'found': 494, 'dwelt': 495, 'almost': 496, 'distant': 497, 'echo': 498, 'bade': 499, 'ember': 500, 'stalked': 501, 'being': 502, 'methought': 503, 'degree': 504, 'rake': 505, 'basked': 506, 'earthly': 507, 'deadly': 508, 'worse': 509, 'labyrinth': 510, 'lonely': 511, 'agreeing': 512, 'eagerly': 513, 'wondering': 514, 'low': 515, 'thinking': 516, 'startled': 517, 'misery': 518, 'memory': 519, 'unhappy': 520, 'another': 521, 'run': 522, 'meaninglittle': 523, 'minute': 524, 'presently': 525, 'feel': 526, 'prose': 527, 'aptly': 528, 'alas': 529, 'youth': 530, 'lattice': 531, 'least': 532, 'fast': 533, 'lent': 534, 'charms': 535, 'fondly': 536, 'lyres': 537, 'december': 538, 'whateer': 539, 'feeble': 540, 'thence': 541, 'denser': 542, 'strength': 543, 'mother': 544, 'mammon': 545, 'swung': 546, 'far': 547, 'stepped': 548, 'engaged': 549, 'talethis': 550, 'ofttimes': 551, 'forgotten': 552, 'placid': 553, 'decorum': 554, 'distinctly': 555, 'flitting': 556, 'go': 557, 'gathered': 558, 'aye': 559, 'aisle': 560, 'croaking': 561, 'cushions': 562, 'home': 563, 'borrow': 564, 'call': 565, 'demons': 566, 'sainted': 567, 'rustling': 568, 'sorrowsorrow': 569, 'drugged': 570, 'chill': 571, 'ye': 572, 'glorious': 573, 'den': 574, 'flung': 575, 'burning': 576, 'friend': 577, 'scarcely': 578, 'break': 579, 'bends': 580, 'loathed': 581, 'enchanted': 582, 'saintly': 583, 'lord': 584, 'balm': 585, 'censer': 586, 'domestic': 587, 'fathers': 588, 'them': 589, 'volume': 590, 'night': 591, 'tinkled': 592, 'venerable': 593, 'beak': 594, 'come': 595, 'taste': 596, 'climes': 597, 'laden': 598, 'living': 599, 'waste': 600, 'heralds': 601, 'flirt': 602, 'ne': 603, 'despair': 604, 'control': 605, 'lines': 606, 'albions': 607, 'marvelled': 608, 'earth': 609, 'betook': 610, 'objects': 611, 'steel': 612, 'lowly': 613, 'bliss': 614, 'yea': 615, 'pleasure': 616, 'spoiled': 617, 'given': 618, 'remember': 619, 'relevancy': 620, 'goodly': 621, 'cannot': 622, 'opened': 623, 'old': 624, 'noontide': 625, 'sins': 626, 'seraphim': 627, 'plume': 628, 'uncouth': 629, 'weak': 630, 'uncertain': 631, 'wandered': 632, 'strange': 633, 'syllable': 634, 'paphian': 635, 'revel': 636, 'seek': 637, 'surcease': 638, 'vile': 639, 'hight': 640, 'crest': 641, 'flutter': 642, 'shutter': 643, 'hellas': 644, 'delphis': 645, 'mirth': 646, 'flatterers': 647, 'apart': 648, 'however': 649, 'straight': 650, 'pangs': 651, 'dwell': 652, 'cell': 653, 'seraphs': 654, 'mien': 655, 'louder': 656, 'sick': 657, 'tales': 658, 'passion': 659, 'throws': 660, 'curious': 661, 'kind': 662, 'shrine': 663, 'ungodly': 664, 'shrieked': 665, 'wide': 666, 'window': 667, 'hour': 668, 'feud': 669, 'himnot': 670, 'start': 671, 'burned': 672, 'ear': 673, 'craven': 674, 'fabled': 675, 'dared': 676, 'see': 677, 'clay': 678, 'blast': 679, 'flaunting': 680, 'way': 681, 'dirges': 682, 'seeming': 683, 'stronger': 684, 'visit': 685, 'lineage': 686, 'murmured': 687, 'stopped': 688, 'wandering': 689, 'pallid': 690, 'birth': 691, 'scorching': 692, 'sculptured': 693, 'fountain': 694, 'songs': 695, 'deeds': 696, 'minstrels': 697, 'vulgar': 698, 'virtues': 699, 'dying': 700, 'lone': 701, 'full': 702, 'womans': 703, 'dares': 704, 'mood': 705, 'whence': 706, 'plainly': 707, 'forget': 708, 'pride': 709, 'wind': 710, 'beast': 711, 'congealed': 712, 'delight': 713, 'shun': 714, 'purple': 715, 'our': 716, 'nameless': 717, 'hill': 718, 'broken': 719, 'scape': 720, 'evil': 721, 'desert': 722, 'reply': 723, 'saw': 724, 'deep': 725, 'faster': 726, 'scene': 727, 'late': 728, 'shadows': 729, 'grave': 730, 'dome': 731, 'midnight': 732, 'store': 733, 'desolate': 734, 'tempter': 735, 'cried': 736, 'both': 737, 'hopes': 738, 'uses': 739, 'nodded': 740, 'shorn': 741, 'superstition': 742, 'their': 743, 'concubines': 744, 'mothernot': 745, 'disaster': 746, 'uttered': 747, 'bosoms': 748, 'dream': 749, 'peering': 750, 'faintly': 751, 'artless': 752, 'vexed': 753, 'gileadtell': 754, 'tossed': 755, 'quaint': 756, 'shameless': 757, 'can': 758, 'fly': 759, 'rhyme': 760, 'tufted': 761, 'hauntedtell': 762, 'eremites': 763, 'fearing': 764, 'flow': 765, 'guessing': 766, 'ashore': 767, 'hear': 768, 'chaste': 769, 'memories': 770, 'revellers': 771, 'smile': 772, 'gave': 773, 'aidenn': 774, 'your': 775, 'lemans': 776, 'fantastic': 777, 'atonement': 778, 'madam': 779, 'deigned': 780, 'calm': 781, 'favour': 782, 'has': 783, 'human': 784}\n",
            "OrderedDict([('fluttered', 336), ('dreary', 332), ('a', 10527), ('the', 23042), ('of', 11189), ('yore', 923), ('stock', 352), ('and', 19393), ('curious', 308), ('we', 603), ('many', 952), ('wore', 329), ('radiant', 673), ('bust', 1949), ('tapping', 1602), ('sir', 360), ('this', 5870), ('ghost', 323), ('distinctly', 317), ('quoth', 1579), ('angels', 1252), ('chamber', 3580), ('broken', 300), ('or', 3966), ('sitting', 930), ('grave', 298), ('its', 1199), ('dreaming', 640), ('art', 335), ('when', 658), ('adore', 333), ('moment', 324), ('then', 2933), ('lord', 315), ('she', 649), ('lent', 319), ('i', 10043), ('tell', 623), ('mystery', 605), ('mefilled', 327), ('still', 2578), ('nevermore', 2980), ('fiery', 337), ('above', 2195), ('rare', 617), ('hath', 608), ('ever', 1253), ('my', 8016), ('lining', 678), ('each', 986), ('no', 2303), ('peering', 293), ('token', 636), ('one', 2539), ('ghastly', 658), ('seraphim', 311), ('on', 3529), ('flutter', 310), ('there', 2860), ('in', 6853), ('to', 8148), ('sad', 1530), ('desolate', 297), ('gently', 603), ('little', 623), ('name', 2269), ('napping', 618), ('said', 2513), ('pondered', 359), ('from', 5140), ('while', 660), ('stood', 637), ('unseen', 336), ('came', 921), ('plume', 311), ('horror', 331), ('caught', 651), ('flitting', 317), ('again', 345), ('get', 341), ('thy', 2960), ('muttered', 644), ('had', 3261), ('divining', 346), ('whether', 655), ('implore', 949), ('human', 266), ('balm', 315), ('all', 1948), ('it', 2883), ('by', 3288), ('guessing', 286), ('here', 996), ('have', 1232), ('curtain', 324), ('such', 639), ('explore', 603), ('beating', 332), ('but', 5207), ('tempter', 297), ('before', 2177), ('sent', 678), ('sought', 603), ('our', 301), ('for', 3282), ('till', 874), ('censer', 315), ('with', 3146), ('into', 2213), ('merely', 351), ('air', 349), ('entreating', 667), ('beguiling', 660), ('whispered', 625), ('prophet', 652), ('flown', 650), ('he', 7706), ('out', 662), ('nameless', 301), ('is', 3468), ('some', 1917), ('was', 4522), ('be', 1931), ('hopes', 296), ('unhappy', 320), ('word', 1587), ('beak', 314), ('raven', 3185), ('nothing', 2162), ('grim', 611), ('whom', 1583), ('fearing', 290), ('front', 335), ('memories', 285), ('soul', 2467), ('tossed', 292), ('what', 1961), ('door', 4476), ('that', 7928), ('hesitating', 336), ('see', 306), ('utters', 332), ('turning', 326), ('unbroken', 330), ('sat', 978), ('lenore', 2596), ('shutter', 310), ('entrance', 634), ('sorrowsorrow', 316), ('wrought', 335), ('take', 991), ('terrors', 333), ('parting', 671), ('so', 2573), ('kind', 308), ('departed', 324), ('who', 951), ('land', 902), ('go', 317), ('save', 663), ('gathered', 317), ('honeyed', 329), ('high', 327), ('smile', 284), ('mine', 669), ('minstrels', 304), ('strength', 318), ('isle', 340), ('whose', 1333), ('deadly', 321), ('suits', 342), ('bliss', 312), ('his', 7707), ('flash', 325), ('suffice', 337), ('than', 1348), ('dares', 303), ('pillared', 345), ('nor', 3333), ('where', 1332), ('harold', 1297), ('vast', 332), ('calm', 276), ('none', 1275), ('hellas', 310), ('through', 340), ('flow', 288), ('maidens', 339), ('might', 986), ('long', 1229), ('drugged', 316), ('love', 624), ('charms', 319), ('delphis', 310), ('heart', 1614), ('tis', 1646), ('mood', 303), ('forgot', 327), ('worse', 321), ('fondly', 319), ('clay', 306), ('partings', 329), ('congealed', 302), ('shades', 335), ('sadness', 354), ('stalked', 322), ('rill', 327), ('are', 992), ('lay', 329), ('yea', 312), ('longed', 335), ('been', 675), ('made', 955), ('chill', 316), ('will', 923), ('lyres', 319), ('whence', 303), ('uses', 296), ('labyrinth', 321), ('uncouth', 311), ('condole', 325), ('domestic', 315), ('scape', 300), ('girls', 341), ('would', 1324), ('few', 638), ('another', 320), ('blast', 306), ('him', 1939), ('ere', 346), ('sooth', 341), ('relief', 339), ('change', 345), ('sea', 364), ('mirthful', 345), ('plain', 327), ('flaunting', 306), ('knew', 673), ('lineage', 305), ('yes', 336), ('did', 1869), ('not', 3203), ('me', 2842), ('pomp', 345), ('parasites', 353), ('carnal', 336), ('come', 314), ('aye', 317), ('gild', 333), ('say', 636), ('fall', 325), ('spent', 333), ('loved', 977), ('haply', 338), ('deemed', 659), ('wins', 336), ('lines', 313), ('oh', 673), ('pleasure', 312), ('more', 2770), ('taste', 314), ('dear', 666), ('finds', 333), ('run', 320), ('bower', 355), ('saw', 299), ('olden', 337), ('day', 606), ('heavenly', 340), ('mirth', 310), ('dome', 298), ('now', 1299), ('fathers', 315), ('other', 628), ('neer', 331), ('flatterers', 310), ('fellow', 350), ('most', 352), ('dwell', 309), ('as', 1938), ('evil', 300), ('oer', 1235), ('days', 648), ('present', 340), ('aisle', 317), ('ee', 329), ('below', 631), ('which', 669), ('massy', 341), ('pollution', 328), ('counsel', 326), ('ye', 316), ('mother', 318), ('consecrate', 332), ('shrine', 308), ('vulgar', 304), ('awake', 329), ('breast', 656), ('heartless', 340), ('time', 629), ('way', 306), ('crime', 330), ('cheer', 367), ('grace', 323), ('favour', 270), ('glorious', 316), ('adversity', 335), ('her', 1286), ('cell', 309), ('ungodly', 308), ('since', 323), ('condemned', 332), ('sorrow', 594), ('oft', 330), ('weary', 920), ('ways', 349), ('hall', 620), ('harolds', 324), ('known', 647), ('climes', 314), ('spoiled', 312), ('blazon', 335), ('coffined', 328), ('een', 323), ('given', 312), ('seraphs', 309), ('ancient', 623), ('albions', 313), ('wrong', 335), ('mammon', 318), ('den', 316), ('them', 315), ('at', 3498), ('virtues', 304), ('maddest', 351), ('fame', 346), ('god', 663), ('weak', 311), ('you', 646), ('tufted', 291), ('grew', 669), ('meaninglittle', 320), ('discourse', 331), ('nodded', 296), ('surely', 603), ('murmured', 305), ('stillness', 655), ('burned', 307), ('thereis', 332), ('quaint', 292), ('bore', 926), ('thee', 1215), ('lamplight', 972), ('lonely', 321), ('feather', 339), ('much', 333), ('something', 648), ('heard', 603), ('soon', 694), ('visiter', 957), ('if', 2216), ('mien', 309), ('usby', 335), ('bird', 3195), ('just', 639), ('deep', 299), ('shrieked', 308), ('violet', 372), ('being', 322), ('shore', 934), ('wide', 308), ('window', 308), ('croaking', 317), ('fiend', 336), ('within', 935), ('minute', 320), ('melancholy', 350), ('over', 341), ('cushions', 317), ('only', 1620), ('wheeled', 348), ('quaff', 636), ('ungainly', 652), ('methought', 322), ('outpour', 341), ('laden', 314), ('ebony', 337), ('master', 332), ('december', 319), ('vainly', 323), ('rapping', 993), ('forgiveness', 334), ('seat', 330), ('plainly', 303), ('shorn', 296), ('form', 334), ('evilprophet', 618), ('leave', 1003), ('black', 325), ('floor', 1300), ('bosoms', 294), ('flung', 316), ('ah', 1280), ('tempest', 606), ('presently', 320), ('marvelled', 313), ('fowl', 676), ('burning', 316), ('velvet', 926), ('spoken', 935), ('suddenly', 340), ('eyes', 619), ('lordly', 352), ('gave', 284), ('dirges', 306), ('floating', 332), ('remember', 312), ('perched', 943), ('louder', 309), ('dreams', 332), ('shaven', 324), ('relevancy', 312), ('sign', 332), ('forget', 303), ('cried', 297), ('expressing', 323), ('agreeing', 321), ('metell', 327), ('friends', 653), ('thou', 645), ('farther', 336), ('aidenn', 284), ('perfumed', 329), ('head', 328), ('uncertain', 311), ('volume', 315), ('ease', 332), ('dying', 304), ('spoke', 346), ('living', 314), ('lost', 620), ('midnight', 298), ('home', 317), ('burden', 639), ('help', 332), ('darkness', 634), ('morrow', 618), ('desert', 300), ('ashore', 286), ('thrilled', 344), ('swung', 318), ('stately', 335), ('monks', 336), ('hour', 308), ('befell', 326), ('upon', 1877), ('monastic', 323), ('resolved', 326), ('night', 315), ('power', 338), ('sacred', 328), ('seemed', 668), ('done', 325), ('unto', 645), ('losel', 333), ('feels', 326), ('wandered', 311), ('deigned', 277), ('hill', 301), ('revellers', 285), ('earth', 313), ('strange', 311), ('begun', 350), ('sore', 609), ('yet', 1906), ('waste', 314), ('ive', 352), ('goodly', 312), ('vaunted', 357), ('open', 577), ('shell', 351), ('feel', 320), ('apart', 310), ('along', 335), ('woe', 355), ('though', 1625), ('dote', 332), ('sick', 309), ('perchance', 361), ('men', 347), ('friend', 316), ('lone', 304), ('sighed', 645), ('longdeserted', 326), ('shameless', 292), ('lurked', 328), ('feud', 308), ('shamed', 341), ('native', 634), ('degree', 322), ('concubines', 295), ('prose', 320), ('tales', 309), ('childe', 2263), ('far', 318), ('found', 323), ('pride', 303), ('any', 349), ('whateer', 319), ('left', 335), ('heralds', 314), ('seeming', 306), ('myself', 327), ('answer', 340), ('lore', 342), ('stopped', 305), ('stepped', 318), ('aptly', 320), ('truly', 624), ('syllable', 311), ('eagerly', 321), ('wandering', 305), ('nearly', 332), ('unbrokenquit', 362), ('clasp', 677), ('seeing', 340), ('linking', 348), ('stern', 340), ('lie', 340), ('cannot', 312), ('youhere', 355), ('betook', 313), ('faintly', 293), ('pallid', 305), ('respiterespite', 342), ('maiden', 907), ('shall', 956), ('nepenthe', 653), ('lies', 328), ('borrow', 317), ('gloating', 335), ('tinkled', 315), ('these', 999), ('back', 986), ('silken', 328), ('ominous', 656), ('sure', 637), ('has', 267), ('longer', 333), ('let', 670), ('scarcely', 316), ('reclining', 326), ('wondering', 321), ('stronger', 306), ('an', 610), ('meant', 331), ('gaunt', 325), ('flirt', 314), ('engaged', 318), ('sinking', 326), ('felt', 639), ('opened', 312), ('plutonian', 596), ('nightly', 329), ('hauntedtell', 291), ('dream', 294), ('nights', 660), ('heaven', 327), ('later', 357), ('talethis', 318), ('alas', 320), ('himnot', 308), ('know', 345), ('drop', 326), ('objects', 313), ('steel', 313), ('could', 661), ('lands', 334), ('passion', 309), ('amiss', 338), ('href', 963), ('https', 963), ('www', 963), ('com', 963), ('mothernot', 295), ('like', 617), ('aught', 352), ('formed', 328), ('dwelt', 323), ('glee', 372), ('joyless', 346), ('paphian', 311), ('delight', 302), ('can', 292), ('birth', 305), ('hope', 618), ('lowly', 313), ('fly', 292), ('passed', 332), ('reverie', 340), ('pile', 336), ('atonement', 280), ('start', 308), ('soils', 340), ('muse', 354), ('third', 330), ('fulness', 324), ('alone', 349), ('true', 357), ('holy', 325), ('peace', 333), ('however', 310), ('riot', 325), ('artless', 293), ('sister', 327), ('sullen', 328), ('once', 663), ('rhyme', 292), ('pilgrimage', 345), ('mote', 692), ('beyond', 329), ('nine', 337), ('rake', 322), ('vexed', 293), ('ofttimes', 318), ('moths', 336), ('brow', 330), ('bacchanals', 330), ('almost', 323), ('revel', 311), ('low', 321), ('adieu', 333), ('bidding', 325), ('eremites', 291), ('call', 317), ('glare', 328), ('youth', 320), ('break', 316), ('ne', 314), ('festal', 371), ('seek', 311), ('sun', 325), ('venerable', 315), ('companie', 334), ('basked', 322), ('scorching', 305), ('visit', 306), ('sing', 326), ('sculptured', 305), ('hear', 286), ('mortals', 330), ('fantastic', 282), ('surcease', 311), ('stayed', 340), ('reply', 300), ('unmerciful', 333), ('followed', 614), ('silence', 332), ('upstarting', 342), ('shadow', 328), ('lady', 343), ('wretch', 335), ('evermore', 324), ('straight', 310), ('distant', 323), ('blessed', 340), ('thing', 641), ('faster', 299), ('nevernevermore', 352), ('wind', 303), ('fact', 324), ('gileadtell', 293), ('undaunted', 333), ('thinking', 321), ('never', 637), ('devil', 619), ('theeby', 335), ('bends', 316), ('pangs', 310), ('chaste', 286), ('vile', 311), ('scene', 299), ('old', 312), ('scarce', 633), ('things', 325), ('superstition', 296), ('times', 341), ('satiety', 330), ('hight', 311), ('drowsy', 342), ('were', 616), ('forgotten', 318), ('lattice', 320), ('startled', 321), ('fancy', 992), ('streaming', 325), ('smiling', 652), ('least', 320), ('pallas', 610), ('disaster', 295), ('store', 298), ('thereat', 326), ('madam', 280), ('wished', 358), ('shun', 302), ('agen', 327), ('light', 334), ('they', 644), ('wight', 341), ('fountain', 305), ('feeble', 319), ('disporting', 336), ('deem', 645), ('happy', 337), ('kiss', 353), ('thence', 319), ('care', 327), ('sight', 326), ('noontide', 312), ('whilome', 341), ('full', 304), ('feere', 324), ('their', 296), ('florid', 353), ('loathed', 316), ('despair', 314), ('womans', 304), ('near', 329), ('cared', 333), ('wassailers', 332), ('control', 314), ('disappointed', 331), ('misery', 321), ('flee', 343), ('ear', 307), ('off', 337), ('repeating', 331), ('separate', 345), ('books', 348), ('fast', 320), ('footfalls', 333), ('enchanted', 316), ('placid', 318), ('demons', 317), ('denser', 319), ('both', 297), ('press', 356), ('sainted', 317), ('crest', 311), ('songs', 305), ('countenance', 330), ('saintly', 316), ('your', 283), ('uttered', 295), ('doubting', 328), ('beast', 303), ('throws', 309), ('cushioned', 326), ('obeisance', 326), ('late', 299), ('bleak', 324), ('echo', 323), ('craven', 307), ('deeds', 305), ('fabled', 307), ('grief', 325), ('lemans', 283), ('tear', 325), ('eros', 337), ('sins', 312), ('bade', 323), ('earthly', 322), ('ember', 323), ('decorum', 318), ('dared', 307), ('gloated', 333), ('loneliness', 336), ('doubtless', 337), ('rustling', 317), ('purple', 302), ('shadows', 299), ('mighty', 337), ('core', 337), ('memory', 321)])\n"
          ],
          "name": "stdout"
        }
      ]
    },
    {
      "cell_type": "code",
      "metadata": {
        "id": "6ec1aL0jOA9J"
      },
      "source": [
        "train_data_seq[len(x_train['Message'].to_numpy()[0])]\n",
        "# formirani niz za prvu recenicu training skupa"
      ],
      "execution_count": null,
      "outputs": []
    },
    {
      "cell_type": "code",
      "metadata": {
        "id": "guPT1sHeSXdI"
      },
      "source": [
        "def vectorize_sequences(sequences, dimension=4000):\n",
        "  results = np.zeros((len(sequences), dimension))\n",
        "  for i, sequence in enumerate(sequences):\n",
        "    results[i, sequence] = 1.\n",
        "  return results"
      ],
      "execution_count": null,
      "outputs": []
    },
    {
      "cell_type": "code",
      "metadata": {
        "id": "aRyGvxijRt3u"
      },
      "source": [
        "def vectorize_labels(labels):\n",
        "  results = np.zeros(len(labels))\n",
        "  for i, label in enumerate(labels):\n",
        "    if (label.lower() == 'Spam'):\n",
        "      results[i] = 1\n",
        "    else:\n",
        "      results[i] = 0\n",
        "  return results"
      ],
      "execution_count": null,
      "outputs": []
    },
    {
      "cell_type": "code",
      "metadata": {
        "id": "foyaT7WQXxmP"
      },
      "source": [
        "train_vectorized = vectorize_sequences(train_data_seq, 4000)\n",
        "test_vectorized = vectorize_sequences(test_data_seq, 4000)\n",
        "label_train_vectorized = vectorize_labels(y_train)\n",
        "label_test_vectorized = vectorize_labels(y_test)"
      ],
      "execution_count": null,
      "outputs": []
    },
    {
      "cell_type": "code",
      "metadata": {
        "colab": {
          "base_uri": "https://localhost:8080/"
        },
        "id": "6NoxhrLov2aL",
        "outputId": "a885a5a4-32a6-4d0b-8635-e5a3ac408176"
      },
      "source": [
        "print(train_vectorized.shape)\n",
        "print(label_test_vectorized.shape)"
      ],
      "execution_count": null,
      "outputs": [
        {
          "output_type": "stream",
          "text": [
            "(1890, 4000)\n",
            "(210,)\n"
          ],
          "name": "stdout"
        }
      ]
    },
    {
      "cell_type": "code",
      "metadata": {
        "id": "I0eQCrYsTWhj"
      },
      "source": [
        "from keras import models\n",
        "from keras import layers\n",
        "\n",
        "# arhitektura mreže\n",
        "model = models.Sequential()\n",
        "#prvi sloj, relu aktivakcijska funkcija\n",
        "# input shape mora odgovarati broju atributa skupa podataka\n",
        "model.add(layers.Dense(8, activation='relu', input_shape=(4000,)))\n",
        "model.add(layers.Dense(8, activation='relu'))\n",
        "model.add(layers.Dense(1, activation='sigmoid'))\n",
        "\n",
        "import keras\n",
        "# specific\n",
        "# Stopa učenja - kontroliše koliko brzo model uči (može biti konstanta ili adaptivna);\n",
        "# opt = keras.optimizers.rmsprop(learning_rate=0.001)\n",
        "# model.compile(loss='binary_crossentropy', optimizer=opt, metrics=['accuracy'])\n",
        "model.compile(optimizer='rmsprop', loss='binary_crossentropy' , metrics=['accuracy'])"
      ],
      "execution_count": null,
      "outputs": []
    },
    {
      "cell_type": "code",
      "metadata": {
        "id": "Hk6F-pqpWaJd"
      },
      "source": [
        "def plotAcc(history):\n",
        "  import matplotlib.pyplot as plt\n",
        "  acc = history['accuracy']\n",
        "  loss_values = history['loss']\n",
        "  val_loss_values = history['val_loss']\n",
        "  epochs = range(1, len(acc) + 1)\n",
        "  plt.plot(epochs, loss_values, 'bo', label='Training loss')\n",
        "  plt.plot(epochs, val_loss_values, 'b', label='Validation loss')\n",
        "  plt.title('Training and validation loss')\n",
        "  plt.xlabel('Epochs')\n",
        "  plt.ylabel('Loss')\n",
        "  plt.legend()\n",
        "  plt.show()\n",
        "  plt.clf()\n",
        "  acc_values = history['accuracy']\n",
        "  val_acc_values = history['val_accuracy']\n",
        "  plt.plot(epochs, acc_values, 'bo', label='Training acc')\n",
        "  plt.plot(epochs, val_acc_values, 'b', label='Validation acc')\n",
        "  plt.title('Training and validation accuracy')\n",
        "  plt.xlabel('Epochs')\n",
        "  plt.ylabel('Loss')\n",
        "  plt.legend()"
      ],
      "execution_count": 19,
      "outputs": []
    },
    {
      "cell_type": "code",
      "metadata": {
        "id": "QXr3xhw0XXOX",
        "colab": {
          "base_uri": "https://localhost:8080/",
          "height": 741
        },
        "outputId": "800c4208-7c90-45ce-e535-b683d12ddb2b"
      },
      "source": [
        "hist = model.fit(train_vectorized, label_train_vectorized, epochs=5, batch_size=128, validation_split=0.3)\n",
        "history = hist.history\n",
        "plotAcc(history)"
      ],
      "execution_count": null,
      "outputs": [
        {
          "output_type": "stream",
          "text": [
            "Epoch 1/5\n",
            "11/11 [==============================] - 1s 25ms/step - loss: 0.5427 - accuracy: 0.7518 - val_loss: 0.1699 - val_accuracy: 1.0000\n",
            "Epoch 2/5\n",
            "11/11 [==============================] - 0s 12ms/step - loss: 0.1382 - accuracy: 1.0000 - val_loss: 0.0566 - val_accuracy: 1.0000\n",
            "Epoch 3/5\n",
            "11/11 [==============================] - 0s 11ms/step - loss: 0.0511 - accuracy: 1.0000 - val_loss: 0.0254 - val_accuracy: 1.0000\n",
            "Epoch 4/5\n",
            "11/11 [==============================] - 0s 10ms/step - loss: 0.0244 - accuracy: 1.0000 - val_loss: 0.0128 - val_accuracy: 1.0000\n",
            "Epoch 5/5\n",
            "11/11 [==============================] - 0s 10ms/step - loss: 0.0120 - accuracy: 1.0000 - val_loss: 0.0067 - val_accuracy: 1.0000\n"
          ],
          "name": "stdout"
        },
        {
          "output_type": "display_data",
          "data": {
            "image/png": "[encoded data removed]",
            "text/plain": [
              "<Figure size 432x288 with 1 Axes>"
            ]
          },
          "metadata": {
            "tags": [],
            "needs_background": "light"
          }
        },
        {
          "output_type": "display_data",
          "data": {
            "image/png": "[encoded data removed]",
            "text/plain": [
              "<Figure size 432x288 with 1 Axes>"
            ]
          },
          "metadata": {
            "tags": [],
            "needs_background": "light"
          }
        }
      ]
    },
    {
      "cell_type": "code",
      "metadata": {
        "colab": {
          "base_uri": "https://localhost:8080/"
        },
        "id": "Z2G6zyzHawuc",
        "outputId": "3e8a0828-0295-4ccc-e50b-73694635f6d8"
      },
      "source": [
        "label_train_vectorized"
      ],
      "execution_count": null,
      "outputs": [
        {
          "output_type": "execute_result",
          "data": {
            "text/plain": [
              "array([0., 0., 0., ..., 0., 0., 0.])"
            ]
          },
          "metadata": {
            "tags": []
          },
          "execution_count": 120
        }
      ]
    },
    {
      "cell_type": "code",
      "metadata": {
        "colab": {
          "base_uri": "https://localhost:8080/"
        },
        "id": "icM8XnxcXl9W",
        "outputId": "39cb2d81-9b23-4632-f670-5c53d794d609"
      },
      "source": [
        "results = model.evaluate(test_vectorized, label_test_vectorized)\n",
        "print(results)"
      ],
      "execution_count": null,
      "outputs": [
        {
          "output_type": "stream",
          "text": [
            "7/7 [==============================] - 0s 2ms/step - loss: 0.0072 - accuracy: 1.0000\n",
            "[0.007248894777148962, 1.0]\n"
          ],
          "name": "stdout"
        }
      ]
    },
    {
      "cell_type": "code",
      "metadata": {
        "id": "-CSeaozCqwae"
      },
      "source": [
        "label_test_vectorized"
      ],
      "execution_count": null,
      "outputs": []
    },
    {
      "cell_type": "code",
      "metadata": {
        "colab": {
          "base_uri": "https://localhost:8080/"
        },
        "id": "3WvrThcQvSg3",
        "outputId": "dc36e4b4-a5a8-46b7-d7c0-a014f888ba4b"
      },
      "source": [
        "x_test = ['To departed who land go save had gathered honeyed high smile to from. Mine had minstrels strength isle. And whose deadly suits bliss his the his. In in flash suffice it a than dares. Pillared nor by where that harold vast calm none his this who hellas through. When flow on maidens might a long drugged love charms his delphis. Was heart tis mood forgot worse fondly and clay partings congealed one shades sadness stalked rill are that lay. Was he yea longed from with soul many parting save sad or been made chill. Will lyres whence uses labyrinth he uncouth condole domestic scape a a girls would few another. Blast him ere sooth. High relief change sea mirthful plain would to flaunting he uses knew dares of the scape was lineage. Yes so save none did not him he me where forgot pomp the where. Parasites his yes of. From carnal come aye than all. Gild the say fall in for girls a his spent loved haply and deemed wins she he lines.So his oh pleasure more taste dear strength finds run bower his sea parasites. Delphis saw minstrels had olden day his of mirthful his there heavenly that in this the to all. The the mirth dome another now fathers lyres to his other neer few. Had flatterers fellow most dwell knew blast would as evil oer still calm save to days maidens present me.']\n",
        "y_test = ['Spam']\n",
        "x_seq = tokenizer.texts_to_sequences(x_test)\n",
        "x_vectorized = vectorize_sequences(x_seq, 4000)\n",
        "y_vectorized = vectorize_labels(y_test)\n",
        "results = model.evaluate(x_vectorized, y_vectorized)\n",
        "print(results)"
      ],
      "execution_count": null,
      "outputs": [
        {
          "output_type": "stream",
          "text": [
            "1/1 [==============================] - 0s 16ms/step - loss: 0.0035 - accuracy: 1.0000\n",
            "[0.0034970862325280905, 1.0]\n"
          ],
          "name": "stdout"
        }
      ]
    },
    {
      "cell_type": "code",
      "metadata": {
        "colab": {
          "base_uri": "https://localhost:8080/"
        },
        "id": "cJoaHB-22800",
        "outputId": "4c4b56aa-f470-41bb-aa3c-6439235082df"
      },
      "source": [
        "#prediction = model.predict(x_vectorized)\n",
        "x_seq = tokenizer.texts_to_sequences([''])\n",
        "x_vectorized = vectorize_sequences(x_seq, 4000)\n",
        "prediction = model.predict(x_vectorized)\n",
        "print(prediction)"
      ],
      "execution_count": null,
      "outputs": [
        {
          "output_type": "stream",
          "text": [
            "[[0.00526953]]\n"
          ],
          "name": "stdout"
        }
      ]
    },
    {
      "cell_type": "code",
      "metadata": {
        "colab": {
          "base_uri": "https://localhost:8080/"
        },
        "id": "P00ucCSHVUKM",
        "outputId": "402495f9-d843-44d6-c6f7-3db9f46f1445"
      },
      "source": [
        "x_train[1]\n"
      ],
      "execution_count": null,
      "outputs": [
        {
          "output_type": "execute_result",
          "data": {
            "text/plain": [
              "array(['To departed who land go save had gathered honeyed high smile to from. Mine had minstrels strength isle. And whose deadly suits bliss his the his. In in flash suffice it a than dares. Pillared nor by where that harold vast calm none his this who hellas through. When flow on maidens might a long drugged love charms his delphis. Was heart tis mood forgot worse fondly and clay partings congealed one shades sadness stalked rill are that lay. Was he yea longed from with soul many parting save sad or been made chill. Will lyres whence uses labyrinth he uncouth condole domestic scape a a girls would few another. Blast him ere sooth. High relief change sea mirthful plain would to flaunting he uses knew dares of the scape was lineage. Yes so save none did not him he me where forgot pomp the where. Parasites his yes of. From carnal come aye than all. Gild the say fall in for girls a his spent loved haply and deemed wins she he lines.So his oh pleasure more taste dear strength finds run bower his sea parasites. Delphis saw minstrels had olden day his of mirthful his there heavenly that in this the to all. The the mirth dome another now fathers lyres to his other neer few. Had flatterers fellow most dwell knew blast would as evil oer still calm save to days maidens present me.'],\n",
              "      dtype=object)"
            ]
          },
          "metadata": {
            "tags": []
          },
          "execution_count": 155
        }
      ]
    },
    {
      "cell_type": "code",
      "metadata": {
        "id": "kf4UpeYIFp8H"
      },
      "source": [
        "stackoverflow = pd.read_csv('drive/MyDrive/stackoverflow.csv')\n",
        "# stackoverflow.describe()\n",
        "# stackoverflow.tail(3)"
      ],
      "execution_count": null,
      "outputs": []
    },
    {
      "cell_type": "code",
      "metadata": {
        "id": "HEu9i832Fwe9"
      },
      "source": [
        "y = stackoverflow['tags'].copy(deep=True)\n",
        "# ocjene = data['Ocjena'][:]\n",
        "stackoverflow.drop(columns=['tags'], inplace=True)\n",
        "x = stackoverflow\n",
        "# x = spam.to_numpy() # Data bez ocjena\n",
        "# y = y.to_numpy() # Ocjene"
      ],
      "execution_count": null,
      "outputs": []
    },
    {
      "cell_type": "code",
      "metadata": {
        "colab": {
          "base_uri": "https://localhost:8080/"
        },
        "id": "q4zXHHnAG0od",
        "outputId": "3315e08b-3081-4c6f-b561-39f49cb47bd1"
      },
      "source": [
        "y.value_counts()"
      ],
      "execution_count": null,
      "outputs": [
        {
          "output_type": "execute_result",
          "data": {
            "text/plain": [
              "javascript    523\n",
              "c#            500\n",
              "java          496\n",
              "python        471\n",
              "Name: tags, dtype: int64"
            ]
          },
          "metadata": {
            "tags": []
          },
          "execution_count": 9
        }
      ]
    },
    {
      "cell_type": "code",
      "metadata": {
        "id": "s6oCDMGIHU_A"
      },
      "source": [
        "x"
      ],
      "execution_count": null,
      "outputs": []
    },
    {
      "cell_type": "code",
      "metadata": {
        "colab": {
          "base_uri": "https://localhost:8080/"
        },
        "id": "cmUJEl5hHQup",
        "outputId": "1dc08d3c-a594-419c-f8a0-528736233ba2"
      },
      "source": [
        "from sklearn.preprocessing import LabelEncoder\n",
        "from keras.utils import to_categorical\n",
        "le = LabelEncoder()\n",
        "labele = le.fit_transform(y)\n",
        "le.classes_"
      ],
      "execution_count": null,
      "outputs": [
        {
          "output_type": "execute_result",
          "data": {
            "text/plain": [
              "array(['c#', 'java', 'javascript', 'python'], dtype=object)"
            ]
          },
          "metadata": {
            "tags": []
          },
          "execution_count": 51
        }
      ]
    },
    {
      "cell_type": "code",
      "metadata": {
        "colab": {
          "base_uri": "https://localhost:8080/"
        },
        "id": "mEfkTNiQPu9-",
        "outputId": "a6507ecd-4875-4b74-e953-e2aae5654de3"
      },
      "source": [],
      "execution_count": null,
      "outputs": [
        {
          "output_type": "execute_result",
          "data": {
            "text/plain": [
              "array(['c#', 'java', 'javascript', 'python'], dtype=object)"
            ]
          },
          "metadata": {
            "tags": []
          },
          "execution_count": 50
        }
      ]
    },
    {
      "cell_type": "code",
      "metadata": {
        "colab": {
          "base_uri": "https://localhost:8080/"
        },
        "id": "8Ui-UyyoM1ci",
        "outputId": "ab293aa9-f4a5-42d5-a6f7-a1a0bb87bba5"
      },
      "source": [
        "labele = to_categorical(labele)\n",
        "labele"
      ],
      "execution_count": null,
      "outputs": [
        {
          "output_type": "execute_result",
          "data": {
            "text/plain": [
              "array([[0., 1., 0., 0.],\n",
              "       [0., 0., 1., 0.],\n",
              "       [1., 0., 0., 0.],\n",
              "       ...,\n",
              "       [0., 1., 0., 0.],\n",
              "       [0., 1., 0., 0.],\n",
              "       [0., 1., 0., 0.]], dtype=float32)"
            ]
          },
          "metadata": {
            "tags": []
          },
          "execution_count": 31
        }
      ]
    },
    {
      "cell_type": "code",
      "metadata": {
        "id": "u97OWCZaNeC1"
      },
      "source": [
        "from sklearn.model_selection import train_test_split\n",
        "\n",
        "x_train, x_test, y_train, y_test = train_test_split(x, labele, test_size=0.10, random_state = 42)"
      ],
      "execution_count": null,
      "outputs": []
    },
    {
      "cell_type": "code",
      "metadata": {
        "colab": {
          "base_uri": "https://localhost:8080/"
        },
        "id": "DVITrBaDN8fj",
        "outputId": "10638908-ae94-47f6-b720-48c1e2f45e2c"
      },
      "source": [
        "x_test['post'].to_numpy().shape"
      ],
      "execution_count": null,
      "outputs": [
        {
          "output_type": "execute_result",
          "data": {
            "text/plain": [
              "(199,)"
            ]
          },
          "metadata": {
            "tags": []
          },
          "execution_count": 34
        }
      ]
    },
    {
      "cell_type": "code",
      "metadata": {
        "colab": {
          "base_uri": "https://localhost:8080/"
        },
        "id": "4dPa4FmaN_bx",
        "outputId": "0ef1d109-9112-47c7-e615-e76fd0cea7bf"
      },
      "source": [
        "y_train"
      ],
      "execution_count": null,
      "outputs": [
        {
          "output_type": "execute_result",
          "data": {
            "text/plain": [
              "array([[1., 0., 0., 0.],\n",
              "       [1., 0., 0., 0.],\n",
              "       [0., 0., 1., 0.],\n",
              "       ...,\n",
              "       [0., 1., 0., 0.],\n",
              "       [0., 0., 0., 1.],\n",
              "       [1., 0., 0., 0.]], dtype=float32)"
            ]
          },
          "metadata": {
            "tags": []
          },
          "execution_count": 40
        }
      ]
    },
    {
      "cell_type": "code",
      "metadata": {
        "id": "I_piyQ1xOUce"
      },
      "source": [
        "from keras.preprocessing.text import Tokenizer\n",
        "\n",
        "tokenizer = Tokenizer(num_words = 500)\n",
        "tokenizer.fit_on_texts(x_train['post'].to_numpy())\n",
        "\n",
        "train_data_seq = tokenizer.texts_to_sequences(x_train['post'].to_numpy())\n",
        "test_data_seq = tokenizer.texts_to_sequences(x_test['post'].to_numpy())\n",
        "\n",
        "x_vectorized = vectorize_sequences(train_data_seq, 500)\n",
        "x_test_vectorized = vectorize_sequences(test_data_seq, 500)"
      ],
      "execution_count": null,
      "outputs": []
    },
    {
      "cell_type": "code",
      "metadata": {
        "id": "lzvpfY5TO94O"
      },
      "source": [
        "from keras import models\n",
        "from keras import layers\n",
        "\n",
        "# arhitektura mreže\n",
        "model = models.Sequential()\n",
        "#prvi sloj, relu aktivakcijska funkcija\n",
        "# input shape mora odgovarati broju atributa skupa podataka\n",
        "model.add(layers.Dense(32, activation='relu', input_shape=(500,)))\n",
        "model.add(layers.Dense(8, activation='relu'))\n",
        "model.add(layers.Dense(4, activation='softmax'))\n",
        "\n",
        "import keras\n",
        "# specific\n",
        "# Stopa učenja - kontroliše koliko brzo model uči (može biti konstanta ili adaptivna);\n",
        "# opt = keras.optimizers.rmsprop(learning_rate=0.001)\n",
        "# model.compile(loss='binary_crossentropy', optimizer=opt, metrics=['accuracy'])\n",
        "model.compile(optimizer='adam', loss='categorical_crossentropy' , metrics=['accuracy'])"
      ],
      "execution_count": null,
      "outputs": []
    },
    {
      "cell_type": "code",
      "metadata": {
        "id": "E32m7YlIPfRm"
      },
      "source": [
        "model.summary()"
      ],
      "execution_count": null,
      "outputs": []
    },
    {
      "cell_type": "code",
      "metadata": {
        "colab": {
          "base_uri": "https://localhost:8080/",
          "height": 842
        },
        "id": "fp4YCzNqPvy6",
        "outputId": "fecacdee-9d00-4bb8-93b5-831edf6fa23e"
      },
      "source": [
        "hist = model.fit(x_vectorized, y_train, epochs=8, batch_size=8, validation_split=0.25)\n",
        "history = hist.history\n",
        "plotAcc(history)"
      ],
      "execution_count": null,
      "outputs": [
        {
          "output_type": "stream",
          "text": [
            "Epoch 1/8\n",
            "168/168 [==============================] - 1s 3ms/step - loss: 1.3002 - accuracy: 0.3355 - val_loss: 0.8230 - val_accuracy: 0.7076\n",
            "Epoch 2/8\n",
            "168/168 [==============================] - 0s 2ms/step - loss: 0.6342 - accuracy: 0.8291 - val_loss: 0.3982 - val_accuracy: 0.8795\n",
            "Epoch 3/8\n",
            "168/168 [==============================] - 0s 2ms/step - loss: 0.2496 - accuracy: 0.9526 - val_loss: 0.2534 - val_accuracy: 0.9174\n",
            "Epoch 4/8\n",
            "168/168 [==============================] - 0s 2ms/step - loss: 0.1202 - accuracy: 0.9787 - val_loss: 0.2273 - val_accuracy: 0.9219\n",
            "Epoch 5/8\n",
            "168/168 [==============================] - 0s 2ms/step - loss: 0.0689 - accuracy: 0.9960 - val_loss: 0.1990 - val_accuracy: 0.9286\n",
            "Epoch 6/8\n",
            "168/168 [==============================] - 0s 2ms/step - loss: 0.0453 - accuracy: 0.9974 - val_loss: 0.1761 - val_accuracy: 0.9308\n",
            "Epoch 7/8\n",
            "168/168 [==============================] - 0s 2ms/step - loss: 0.0283 - accuracy: 0.9994 - val_loss: 0.1821 - val_accuracy: 0.9263\n",
            "Epoch 8/8\n",
            "168/168 [==============================] - 0s 2ms/step - loss: 0.0188 - accuracy: 0.9991 - val_loss: 0.1817 - val_accuracy: 0.9353\n"
          ],
          "name": "stdout"
        },
        {
          "output_type": "display_data",
          "data": {
            "image/png": "[encoded data removed]",
            "text/plain": [
              "<Figure size 432x288 with 1 Axes>"
            ]
          },
          "metadata": {
            "tags": [],
            "needs_background": "light"
          }
        },
        {
          "output_type": "display_data",
          "data": {
            "image/png": "[encoded data removed]",
            "text/plain": [
              "<Figure size 432x288 with 1 Axes>"
            ]
          },
          "metadata": {
            "tags": [],
            "needs_background": "light"
          }
        }
      ]
    },
    {
      "cell_type": "code",
      "metadata": {
        "colab": {
          "base_uri": "https://localhost:8080/"
        },
        "id": "g_6YSOfLRZJ5",
        "outputId": "394660ec-c58b-4aa9-b726-cd24d7a7b47a"
      },
      "source": [
        "results = model.evaluate(x_test_vectorized, y_test)\n",
        "print(results)"
      ],
      "execution_count": null,
      "outputs": [
        {
          "output_type": "stream",
          "text": [
            "7/7 [==============================] - 0s 3ms/step - loss: 0.2508 - accuracy: 0.9196\n",
            "[0.25084739923477173, 0.9195979833602905]\n"
          ],
          "name": "stdout"
        }
      ]
    },
    {
      "cell_type": "code",
      "metadata": {
        "colab": {
          "base_uri": "https://localhost:8080/"
        },
        "id": "L35hrSdkM3EH",
        "outputId": "8df4f0f2-7c73-4347-b436-b173fce536a0"
      },
      "source": [
        "s = '\"getting a nan error in javascript add function  getting a nan error in this addition function for script code  although there is no type conversion from string to int: any suggestions      <div class= snippet  data-lang= js  data-hide= false  data-console= true  data-babel= false > <div class= snippet-code > <pre class= snippet-code-js lang-js prettyprint-override ><code>var add = function(a  b) { var i = 0 sum = 0; for (i = 0; i &lt;= arguments.length; i++) { sum += arguments[i]; } return sum; }; console.log(add(10  20  30  40  50));</code></pre> </div> </div>\"'\n",
        "test = tokenizer.texts_to_sequences([s])\n",
        "test_vectorized = vectorize_sequences(test, 500)\n",
        "\n",
        "prediction = model.predict(test_vectorized)\n",
        "print(prediction)"
      ],
      "execution_count": null,
      "outputs": [
        {
          "output_type": "stream",
          "text": [
            "[[5.3483177e-07 6.7792539e-06 9.9999261e-01 1.5536094e-07]]\n"
          ],
          "name": "stdout"
        }
      ]
    },
    {
      "cell_type": "markdown",
      "metadata": {
        "id": "NV2jgmUdiQS8"
      },
      "source": [
        "\n",
        "\n",
        "```\n",
        "#LAB 4\n",
        "```\n",
        "\n"
      ]
    },
    {
      "cell_type": "code",
      "metadata": {
        "colab": {
          "base_uri": "https://localhost:8080/"
        },
        "id": "cBYeMiBvfhjt",
        "outputId": "d206713e-ea87-4ba7-b298-6b0a376a8912"
      },
      "source": [
        "from keras.datasets import boston_housing\n",
        "(train_data, train_targets), (test_data, test_targets) = boston_housing.load_data()"
      ],
      "execution_count": 6,
      "outputs": [
        {
          "output_type": "stream",
          "name": "stdout",
          "text": [
            "Downloading data from https://storage.googleapis.com/tensorflow/tf-keras-datasets/boston_housing.npz\n",
            "57344/57026 [==============================] - 0s 2us/step\n"
          ]
        }
      ]
    },
    {
      "cell_type": "code",
      "metadata": {
        "colab": {
          "base_uri": "https://localhost:8080/",
          "height": 297
        },
        "id": "Mt-0lPbPiddr",
        "outputId": "da49d4bd-0639-421d-ae78-1b51392137c6"
      },
      "source": [
        "df_describe = pd.DataFrame(train_data)\n",
        "df_describe.describe()"
      ],
      "execution_count": 7,
      "outputs": [
        {
          "output_type": "execute_result",
          "data": {
            "text/plain": [
              "               0           1           2           3           4           5   \\\n",
              "count  404.000000  404.000000  404.000000  404.000000  404.000000  404.000000   \n",
              "mean     3.745111   11.480198   11.104431    0.061881    0.557356    6.267082   \n",
              "std      9.240734   23.767711    6.811308    0.241238    0.117293    0.709788   \n",
              "min      0.006320    0.000000    0.460000    0.000000    0.385000    3.561000   \n",
              "25%      0.081437    0.000000    5.130000    0.000000    0.453000    5.874750   \n",
              "50%      0.268880    0.000000    9.690000    0.000000    0.538000    6.198500   \n",
              "75%      3.674808   12.500000   18.100000    0.000000    0.631000    6.609000   \n",
              "max     88.976200  100.000000   27.740000    1.000000    0.871000    8.725000   \n",
              "\n",
              "               6           7           8           9           10          11  \\\n",
              "count  404.000000  404.000000  404.000000  404.000000  404.000000  404.000000   \n",
              "mean    69.010644    3.740271    9.440594  405.898515   18.475990  354.783168   \n",
              "std     27.940665    2.030215    8.698360  166.374543    2.200382   94.111148   \n",
              "min      2.900000    1.129600    1.000000  188.000000   12.600000    0.320000   \n",
              "25%     45.475000    2.077100    4.000000  279.000000   17.225000  374.672500   \n",
              "50%     78.500000    3.142300    5.000000  330.000000   19.100000  391.250000   \n",
              "75%     94.100000    5.118000   24.000000  666.000000   20.200000  396.157500   \n",
              "max    100.000000   10.710300   24.000000  711.000000   22.000000  396.900000   \n",
              "\n",
              "               12  \n",
              "count  404.000000  \n",
              "mean    12.740817  \n",
              "std      7.254545  \n",
              "min      1.730000  \n",
              "25%      6.890000  \n",
              "50%     11.395000  \n",
              "75%     17.092500  \n",
              "max     37.970000  "
            ],
            "text/html": "<div>\n<style scoped>\n    .dataframe tbody tr th:only-of-type {\n        vertical-align: middle;\n    }\n\n    .dataframe tbody tr th {\n        vertical-align: top;\n    }\n\n    .dataframe thead th {\n        text-align: right;\n    }\n</style>\n<table border=\"1\" class=\"dataframe\">\n  <thead>\n    <tr style=\"text-align: right;\">\n      <th></th>\n      <th>0</th>\n      <th>1</th>\n      <th>2</th>\n      <th>3</th>\n      <th>4</th>\n      <th>5</th>\n      <th>6</th>\n      <th>7</th>\n      <th>8</th>\n      <th>9</th>\n      <th>10</th>\n      <th>11</th>\n      <th>12</th>\n    </tr>\n  </thead>\n  <tbody>\n    <tr>\n      <th>count</th>\n      <td>404.000000</td>\n      <td>404.000000</td>\n      <td>404.000000</td>\n      <td>404.000000</td>\n      <td>404.000000</td>\n      <td>404.000000</td>\n      <td>404.000000</td>\n      <td>404.000000</td>\n      <td>404.000000</td>\n      <td>404.000000</td>\n      <td>404.000000</td>\n      <td>404.000000</td>\n      <td>404.000000</td>\n    </tr>\n    <tr>\n      <th>mean</th>\n      <td>3.745111</td>\n      <td>11.480198</td>\n      <td>11.104431</td>\n      <td>0.061881</td>\n      <td>0.557356</td>\n      <td>6.267082</td>\n      <td>69.010644</td>\n      <td>3.740271</td>\n      <td>9.440594</td>\n      <td>405.898515</td>\n      <td>18.475990</td>\n      <td>354.783168</td>\n      <td>12.740817</td>\n    </tr>\n    <tr>\n      <th>std</th>\n      <td>9.240734</td>\n      <td>23.767711</td>\n      <td>6.811308</td>\n      <td>0.241238</td>\n      <td>0.117293</td>\n      <td>0.709788</td>\n      <td>27.940665</td>\n      <td>2.030215</td>\n      <td>8.698360</td>\n      <td>166.374543</td>\n      <td>2.200382</td>\n      <td>94.111148</td>\n      <td>7.254545</td>\n    </tr>\n    <tr>\n      <th>min</th>\n      <td>0.006320</td>\n      <td>0.000000</td>\n      <td>0.460000</td>\n      <td>0.000000</td>\n      <td>0.385000</td>\n      <td>3.561000</td>\n      <td>2.900000</td>\n      <td>1.129600</td>\n      <td>1.000000</td>\n      <td>188.000000</td>\n      <td>12.600000</td>\n      <td>0.320000</td>\n      <td>1.730000</td>\n    </tr>\n    <tr>\n      <th>25%</th>\n      <td>0.081437</td>\n      <td>0.000000</td>\n      <td>5.130000</td>\n      <td>0.000000</td>\n      <td>0.453000</td>\n      <td>5.874750</td>\n      <td>45.475000</td>\n      <td>2.077100</td>\n      <td>4.000000</td>\n      <td>279.000000</td>\n      <td>17.225000</td>\n      <td>374.672500</td>\n      <td>6.890000</td>\n    </tr>\n    <tr>\n      <th>50%</th>\n      <td>0.268880</td>\n      <td>0.000000</td>\n      <td>9.690000</td>\n      <td>0.000000</td>\n      <td>0.538000</td>\n      <td>6.198500</td>\n      <td>78.500000</td>\n      <td>3.142300</td>\n      <td>5.000000</td>\n      <td>330.000000</td>\n      <td>19.100000</td>\n      <td>391.250000</td>\n      <td>11.395000</td>\n    </tr>\n    <tr>\n      <th>75%</th>\n      <td>3.674808</td>\n      <td>12.500000</td>\n      <td>18.100000</td>\n      <td>0.000000</td>\n      <td>0.631000</td>\n      <td>6.609000</td>\n      <td>94.100000</td>\n      <td>5.118000</td>\n      <td>24.000000</td>\n      <td>666.000000</td>\n      <td>20.200000</td>\n      <td>396.157500</td>\n      <td>17.092500</td>\n    </tr>\n    <tr>\n      <th>max</th>\n      <td>88.976200</td>\n      <td>100.000000</td>\n      <td>27.740000</td>\n      <td>1.000000</td>\n      <td>0.871000</td>\n      <td>8.725000</td>\n      <td>100.000000</td>\n      <td>10.710300</td>\n      <td>24.000000</td>\n      <td>711.000000</td>\n      <td>22.000000</td>\n      <td>396.900000</td>\n      <td>37.970000</td>\n    </tr>\n  </tbody>\n</table>\n</div>"
          },
          "metadata": {},
          "execution_count": 7
        }
      ]
    },
    {
      "cell_type": "code",
      "metadata": {
        "colab": {
          "base_uri": "https://localhost:8080/",
          "height": 297
        },
        "id": "lHiYVniCjg2O",
        "outputId": "d5f181d5-6603-4033-fe61-cc0d0b1e1d1b"
      },
      "source": [
        "df_describe = pd.DataFrame(train_targets)\n",
        "df_describe.describe()"
      ],
      "execution_count": 13,
      "outputs": [
        {
          "output_type": "execute_result",
          "data": {
            "text/html": [
              "<div>\n",
              "<style scoped>\n",
              "    .dataframe tbody tr th:only-of-type {\n",
              "        vertical-align: middle;\n",
              "    }\n",
              "\n",
              "    .dataframe tbody tr th {\n",
              "        vertical-align: top;\n",
              "    }\n",
              "\n",
              "    .dataframe thead th {\n",
              "        text-align: right;\n",
              "    }\n",
              "</style>\n",
              "<table border=\"1\" class=\"dataframe\">\n",
              "  <thead>\n",
              "    <tr style=\"text-align: right;\">\n",
              "      <th></th>\n",
              "      <th>0</th>\n",
              "    </tr>\n",
              "  </thead>\n",
              "  <tbody>\n",
              "    <tr>\n",
              "      <th>count</th>\n",
              "      <td>404.000000</td>\n",
              "    </tr>\n",
              "    <tr>\n",
              "      <th>mean</th>\n",
              "      <td>22.395050</td>\n",
              "    </tr>\n",
              "    <tr>\n",
              "      <th>std</th>\n",
              "      <td>9.210442</td>\n",
              "    </tr>\n",
              "    <tr>\n",
              "      <th>min</th>\n",
              "      <td>5.000000</td>\n",
              "    </tr>\n",
              "    <tr>\n",
              "      <th>25%</th>\n",
              "      <td>16.675000</td>\n",
              "    </tr>\n",
              "    <tr>\n",
              "      <th>50%</th>\n",
              "      <td>20.750000</td>\n",
              "    </tr>\n",
              "    <tr>\n",
              "      <th>75%</th>\n",
              "      <td>24.800000</td>\n",
              "    </tr>\n",
              "    <tr>\n",
              "      <th>max</th>\n",
              "      <td>50.000000</td>\n",
              "    </tr>\n",
              "  </tbody>\n",
              "</table>\n",
              "</div>"
            ],
            "text/plain": [
              "                0\n",
              "count  404.000000\n",
              "mean    22.395050\n",
              "std      9.210442\n",
              "min      5.000000\n",
              "25%     16.675000\n",
              "50%     20.750000\n",
              "75%     24.800000\n",
              "max     50.000000"
            ]
          },
          "metadata": {
            "tags": []
          },
          "execution_count": 13
        }
      ]
    },
    {
      "cell_type": "code",
      "metadata": {
        "id": "W1By7VgvlFj5"
      },
      "source": [
        "from sklearn.preprocessing import MinMaxScaler\n",
        "\n",
        "\n",
        "scaler = MinMaxScaler().fit(train_data)\n",
        "train_data_scaled = scaler.fit_transform(train_data)\n",
        "test_data_scaled = scaler.fit_transform(test_data)"
      ],
      "execution_count": 14,
      "outputs": []
    },
    {
      "cell_type": "code",
      "metadata": {
        "id": "DZJbfOhXmfWE"
      },
      "source": [
        "df_describe = pd.DataFrame(train_data_scaled)\n",
        "df_describe.describe()"
      ],
      "execution_count": null,
      "outputs": []
    },
    {
      "cell_type": "code",
      "metadata": {
        "id": "iV280r4moHpQ"
      },
      "source": [
        "def model_mreze():\n",
        "  from keras import models\n",
        "  from keras import layers\n",
        "\n",
        "  # arhitektura mreže\n",
        "  model = models.Sequential()\n",
        "  #prvi sloj, relu aktivakcijska funkcija\n",
        "  # input shape mora odgovarati broju atributa skupa podataka\n",
        "  model.add(layers.Dense(64, activation='relu', input_shape=(13,)))\n",
        "  model.add(layers.Dense(64, activation='relu'))\n",
        "  model.add(layers.Dense(1))\n",
        "\n",
        "  import keras\n",
        "  # specific\n",
        "  # Stopa učenja - kontroliše koliko brzo model uči (može biti konstanta ili adaptivna);\n",
        "  opt = keras.optimizers.Adam(learning_rate=0.01)\n",
        "  model.compile(loss='mse', optimizer=opt, metrics=['mae'])\n",
        "  return model"
      ],
      "execution_count": 18,
      "outputs": []
    },
    {
      "cell_type": "code",
      "metadata": {
        "id": "0HO7AjXDpj5t"
      },
      "source": [
        "def plotMeanAbsEror(history):\n",
        "  import matplotlib.pyplot as plt\n",
        "  mae = history['mae']\n",
        "  loss_values = history['loss']\n",
        "  val_loss_values = history['val_loss']\n",
        "  epochs = range(1, len(mae) + 1)\n",
        "  plt.plot(epochs, loss_values, 'bo', label='Training loss')\n",
        "  plt.plot(epochs, val_loss_values, 'b', label='Validation loss')\n",
        "  plt.title('Training and validation loss')\n",
        "  plt.xlabel('Epochs')\n",
        "  plt.ylabel('Loss')\n",
        "  plt.legend()\n",
        "  plt.show()\n",
        "  plt.clf()\n",
        "  mae_values = history['mae']\n",
        "  val_mae_values = history['val_mae']\n",
        "  plt.plot(epochs, mae_values, 'bo', label='Training mae')\n",
        "  plt.plot(epochs, val_mae_values, 'b', label='Validation mae')\n",
        "  plt.title('Training and validation mean abs eror')\n",
        "  plt.xlabel('Epochs')\n",
        "  plt.ylabel('Loss')\n",
        "  plt.legend()"
      ],
      "execution_count": 25,
      "outputs": []
    },
    {
      "cell_type": "code",
      "metadata": {
        "id": "b9Jt06L6o8VI"
      },
      "source": [
        "model = model_mreze()\n",
        "\n",
        "hist = model.fit(train_data_scaled, train_targets, epochs=100, batch_size=1, validation_split=0.1)\n",
        "history = hist.history"
      ],
      "execution_count": null,
      "outputs": []
    },
    {
      "cell_type": "code",
      "metadata": {
        "colab": {
          "base_uri": "https://localhost:8080/",
          "height": 573
        },
        "id": "xJNyPyllrJuH",
        "outputId": "3817357c-791b-449d-a9ee-0299e16cac92"
      },
      "source": [
        "plotMeanAbsEror(history)"
      ],
      "execution_count": 26,
      "outputs": [
        {
          "output_type": "display_data",
          "data": {
            "image/png": "[encoded data removed]",
            "text/plain": [
              "<Figure size 432x288 with 1 Axes>"
            ]
          },
          "metadata": {
            "tags": [],
            "needs_background": "light"
          }
        },
        {
          "output_type": "display_data",
          "data": {
            "image/png": "[encoded data removed]",
            "text/plain": [
              "<Figure size 432x288 with 1 Axes>"
            ]
          },
          "metadata": {
            "tags": [],
            "needs_background": "light"
          }
        }
      ]
    },
    {
      "cell_type": "code",
      "metadata": {
        "colab": {
          "base_uri": "https://localhost:8080/",
          "height": 279
        },
        "id": "JVe7HWLhs18U",
        "outputId": "414056ba-22ab-42b1-c2d5-50a791015354"
      },
      "source": [
        "def smooth_curve(points, factor=0.9):\n",
        "  smoothed_points = []\n",
        "  for point in points:\n",
        "    if smoothed_points:\n",
        "        previous = smoothed_points[-1]\n",
        "        smoothed_points.append(previous * factor + point * (1 - factor))\n",
        "    else:\n",
        "        smoothed_points.append(point)\n",
        "  return smoothed_points\n",
        "\n",
        "mae_history = history['val_mae']\n",
        "\n",
        "smooth_mae_history = smooth_curve(mae_history[10:])\n",
        "plt.plot(range(1, len(smooth_mae_history) + 1), smooth_mae_history)\n",
        "plt.xlabel('Epochs')\n",
        "plt.ylabel('Validation MAE')\n",
        "plt.show()"
      ],
      "execution_count": 27,
      "outputs": [
        {
          "output_type": "display_data",
          "data": {
            "image/png": "[encoded data removed]",
            "text/plain": [
              "<Figure size 432x288 with 1 Axes>"
            ]
          },
          "metadata": {
            "tags": [],
            "needs_background": "light"
          }
        }
      ]
    },
    {
      "cell_type": "code",
      "metadata": {
        "id": "Du1aIEbOuWlz"
      },
      "source": [
        "model = model_mreze()\n",
        "\n",
        "hist = model.fit(train_data_scaled, train_targets, epochs=500, batch_size=1, validation_split=0.1)\n",
        "history = hist.history"
      ],
      "execution_count": null,
      "outputs": []
    },
    {
      "cell_type": "code",
      "metadata": {
        "colab": {
          "base_uri": "https://localhost:8080/",
          "height": 279
        },
        "id": "amQ1092LwSA9",
        "outputId": "fc9027aa-2690-4ead-f3f6-6908fc999109"
      },
      "source": [
        "mae_history = history['val_mae']\n",
        "\n",
        "smooth_mae_history = smooth_curve(mae_history[10:])\n",
        "plt.plot(range(1, len(smooth_mae_history) + 1), smooth_mae_history)\n",
        "plt.xlabel('Epochs')\n",
        "plt.ylabel('Validation MAE')\n",
        "plt.show()"
      ],
      "execution_count": 29,
      "outputs": [
        {
          "output_type": "display_data",
          "data": {
            "image/png": "[encoded data removed]",
            "text/plain": [
              "<Figure size 432x288 with 1 Axes>"
            ]
          },
          "metadata": {
            "tags": [],
            "needs_background": "light"
          }
        }
      ]
    },
    {
      "cell_type": "code",
      "metadata": {
        "colab": {
          "base_uri": "https://localhost:8080/"
        },
        "id": "-DU4brbEwe4l",
        "outputId": "d166929e-e891-4a0e-c1c5-fadbefb42910"
      },
      "source": [
        "results = model.evaluate(test_data_scaled, test_targets, batch_size=1)\n",
        "print(\"test loss, test mae:\", results)"
      ],
      "execution_count": 39,
      "outputs": [
        {
          "output_type": "stream",
          "text": [
            "102/102 [==============================] - 0s 821us/step - loss: 35.2132 - mae: 4.8770\n",
            "test loss, test mae: [35.213218688964844, 4.876999378204346]\n"
          ],
          "name": "stdout"
        }
      ]
    },
    {
      "cell_type": "code",
      "metadata": {
        "id": "xkpPW3BWwzjD"
      },
      "source": [
        "prediction = model.predict(test_data_scaled[0:])\n",
        "prediction"
      ],
      "execution_count": null,
      "outputs": []
    }
  ]
}